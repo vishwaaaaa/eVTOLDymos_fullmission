{
  "nbformat": 4,
  "nbformat_minor": 0,
  "metadata": {
    "colab": {
      "name": "dymos_evtol.ipynb",
      "provenance": [],
      "collapsed_sections": []
    },
    "kernelspec": {
      "name": "python3",
      "display_name": "Python 3"
    }
  },
  "cells": [
    {
      "cell_type": "markdown",
      "metadata": {
        "id": "OP-xmSipbXFh"
      },
      "source": [
        "# The Dymos Solution to the eVTOL Minimum-Energy Takeoff\n",
        "\n",
        "[![Open In Colab](https://colab.research.google.com/assets/colab-badge.svg)](https://colab.research.google.com/github/OpenMDAO/RevHack2020//blob/master/problems/evtol_trajectory/evtol_dymos/evtol_dymos.ipynb)\n",
        "\n",
        "This notebook shows how we used Dymos to minimize the total energy of an electric vertical take-off vehicle.\n",
        "\n",
        "* The original implementation can be found [here](https://bitbucket.org/shamsheersc19/tilt_wing_evtol_takeoff).\n",
        "* The problem formulation and results are published [here](https://www.researchgate.net/publication/337259571_Tilt-Wing_eVTOL_Takeoff_Trajectory_Optimization)\n",
        "\n",
        "The original implementation used 500 steps of an Euler-integration approach, and complex-step differentiation through the Euler-integration (as well as an internal convergence loop).\n",
        "\n",
        "This implementation seeks to preserve as much of the original approach as possible.\n",
        "Complex-step is still used for differentiation, but the Euler-integraiton approach is replaced with Dymos.\n"
      ]
    },
    {
      "cell_type": "code",
      "metadata": {
        "id": "o5Mg_5Hzap-y"
      },
      "source": [
        "%%capture\n",
        "!apt install swig file"
      ],
      "execution_count": 1,
      "outputs": []
    },
    {
      "cell_type": "code",
      "metadata": {
        "id": "_Z3RRS2DauiT"
      },
      "source": [
        "%%capture\n",
        "!wget -c https://raw.githubusercontent.com/OpenMDAO/build_pyoptsparse/master/build_pyoptsparse.sh"
      ],
      "execution_count": 2,
      "outputs": []
    },
    {
      "cell_type": "code",
      "metadata": {
        "id": "EVZXHF4aazuw"
      },
      "source": [
        "%%capture\n",
        "!bash build_pyoptsparse.sh -p /usr/local"
      ],
      "execution_count": 3,
      "outputs": []
    },
    {
      "cell_type": "code",
      "metadata": {
        "id": "Gh5YmeUqbC5A"
      },
      "source": [
        "%%capture\n",
        "!ldconfig"
      ],
      "execution_count": 4,
      "outputs": []
    },
    {
      "cell_type": "code",
      "metadata": {
        "id": "QWypTo_tZr8F"
      },
      "source": [
        "%%capture\n",
        "!python3 -m pip install git+https://github.com/OpenMDAO/OpenMDAO.git;"
      ],
      "execution_count": 5,
      "outputs": []
    },
    {
      "cell_type": "code",
      "metadata": {
        "id": "uRn44oLFV_1_"
      },
      "source": [
        "%%capture\n",
        "!python3 -m pip install git+https://github.com/OpenMDAO/dymos.git;"
      ],
      "execution_count": 6,
      "outputs": []
    },
    {
      "cell_type": "code",
      "metadata": {
        "id": "INi3qomzYaj6",
        "outputId": "ab793c9b-bc5e-45fe-880e-1e60110aaa5a",
        "colab": {
          "base_uri": "https://localhost:8080/"
        }
      },
      "source": [
        "import numpy as np\n",
        "import openmdao.api as om\n",
        "import dymos as dm\n",
        "\n",
        "from openmdao.utils.cs_safe import abs as cs_abs\n"
      ],
      "execution_count": 7,
      "outputs": [
        {
          "output_type": "stream",
          "text": [
            "Unable to import mpi4py. Parallel processing unavailable.\n",
            "Unable to import petsc4py. Parallel processing unavailable.\n",
            "Unable to import petsc4py. Parallel processing unavailable.\n"
          ],
          "name": "stdout"
        },
        {
          "output_type": "stream",
          "text": [
            "/usr/local/lib/python3.6/dist-packages/pyoptsparse/pyOpt_MPI.py:63: UserWarning: mpi4py could not be imported. mpi4py is required to use the parallel gradient analysis and parallel objective analysis for non-gradient based optimizers. Continuing using a dummy MPI module from pyOptSparse.\n",
            "  warnings.warn(warn)\n"
          ],
          "name": "stderr"
        }
      ]
    },
    {
      "cell_type": "markdown",
      "metadata": {
        "id": "DqEHVOJkZ-mn"
      },
      "source": [
        "Define a complex-safe arctan2 (this will soon be available in `openmdao.utils.cs_atan2`)"
      ]
    },
    {
      "cell_type": "code",
      "metadata": {
        "id": "HR6tllzfZCjg"
      },
      "source": [
        "def cs_atan2(y, x):\n",
        "    \"\"\"\n",
        "    A numpy-compatible, complex-compatible arctan2 function for use with complex-step.\n",
        "\n",
        "    Parameters\n",
        "    ----------\n",
        "    y : float or complex\n",
        "        The length of the side opposite the angle being determined.\n",
        "    x : float or complex\n",
        "        The length of the side adjacent to the angle being determined.\n",
        "\n",
        "    Returns\n",
        "    -------\n",
        "    The angle whose opposite side has length y and whose adjacent side has length x.\n",
        "    \"\"\"\n",
        "    a = np.real(y)\n",
        "    b = np.imag(y)\n",
        "    c = np.real(x)\n",
        "    d = np.imag(x)\n",
        "\n",
        "    if np.any(np.iscomplex(x)) or np.any(np.iscomplex(y)):\n",
        "        res = np.arctan2(a, c) + 1j * (c * b - a * d) / (a**2 + c**2)\n",
        "    else:\n",
        "        res = np.arctan2(a, c)\n",
        "    return res"
      ],
      "execution_count": 8,
      "outputs": []
    },
    {
      "cell_type": "markdown",
      "metadata": {
        "id": "yE4IuPtsahTk"
      },
      "source": [
        "The user's interpolation coefficient function for the aerodynamics."
      ]
    },
    {
      "cell_type": "code",
      "metadata": {
        "id": "VDIn8dhkaoxO"
      },
      "source": [
        "def give_curve_fit_coeffs(a0, AR, e):\n",
        "    \"\"\"\n",
        "    This gives the coefficients for the quartic least-squares curve fit that is used for each wing's\n",
        "    coefficient of drag below 27.5 deg.\n",
        "\n",
        "    Parameters\n",
        "    ----------\n",
        "    a0 : float\n",
        "        Airfoil lift-curve slope in 1/rad\n",
        "    AR : float\n",
        "        Aspect ratio\n",
        "    e : float\n",
        "        Span efficiency factor\n",
        "\n",
        "    Returns\n",
        "    -------\n",
        "    quartic_poly_coeffs : array\n",
        "        Coefficients of the curve fit\n",
        "    data_pts : array\n",
        "        Data points that are fitted\n",
        "    \"\"\"\n",
        "\n",
        "    cla = a0 / (1 + a0 / (np.pi * e * AR))\n",
        "\n",
        "    data_pts = np.array([[16. / 180. * np.pi, 0.1],  # Tangler--Ostowari points\n",
        "                         [20. / 180. * np.pi, 0.175],  # Tangler--Ostowari points\n",
        "                         [25. / 180. * np.pi, 0.275],  # Tangler--Ostowari points\n",
        "                         [27.5 / 180. * np.pi, 0.363],  # Tangler--Ostowari points\n",
        "                         [12. / 180. * np.pi,\n",
        "                          0.015 + (cla * 12. / 180. * np.pi) ** 2 / np.pi / AR / e],\n",
        "                         [10. / 180. * np.pi,\n",
        "                          0.012 + (cla * 10. / 180. * np.pi) ** 2 / np.pi / AR / e],\n",
        "                         [8. / 180. * np.pi,\n",
        "                          0.0095 + (cla * 8. / 180. * np.pi) ** 2 / np.pi / AR / e],\n",
        "                         [6. / 180. * np.pi,\n",
        "                          0.008 + (cla * 6. / 180. * np.pi) ** 2 / np.pi / AR / e],\n",
        "                         [4. / 180. * np.pi,\n",
        "                          0.007 + (cla * 4. / 180. * np.pi) ** 2 / np.pi / AR / e],\n",
        "                         [2. / 180. * np.pi,\n",
        "                          0.0062 + (cla * 2. / 180. * np.pi) ** 2 / np.pi / AR / e],\n",
        "                         [0. / 180. * np.pi, 0.006]])\n",
        "\n",
        "    new_fit_matrix = np.array([[1, data_pts[0, 0] ** 2, data_pts[0, 0] ** 4],\n",
        "                               [1, data_pts[1, 0] ** 2, data_pts[1, 0] ** 4],\n",
        "                               [1, data_pts[2, 0] ** 2, data_pts[2, 0] ** 4],\n",
        "                               [1, data_pts[3, 0] ** 2, data_pts[3, 0] ** 4],\n",
        "                               [1, data_pts[4, 0] ** 2, data_pts[4, 0] ** 4],\n",
        "                               [1, data_pts[5, 0] ** 2, data_pts[5, 0] ** 4],\n",
        "                               [1, data_pts[6, 0] ** 2, data_pts[6, 0] ** 4],\n",
        "                               [1, data_pts[7, 0] ** 2, data_pts[7, 0] ** 4],\n",
        "                               [1, data_pts[8, 0] ** 2, data_pts[8, 0] ** 4],\n",
        "                               [1, data_pts[9, 0] ** 2, data_pts[9, 0] ** 4],\n",
        "                               [1, data_pts[10, 0] ** 2, data_pts[10, 0] ** 4]])\n",
        "\n",
        "    quartic_poly_coeffs = np.linalg.solve(np.dot(new_fit_matrix.T, new_fit_matrix),\n",
        "                                          np.dot(new_fit_matrix.T, data_pts[:, 1]))\n",
        "\n",
        "    return quartic_poly_coeffs, data_pts"
      ],
      "execution_count": 9,
      "outputs": []
    },
    {
      "cell_type": "markdown",
      "metadata": {
        "id": "sy7OuCCzbPdA"
      },
      "source": [
        "The thrust function.  This contains it's own while-loop-based solver.  Typically we'd use an OpenMDAO solver for this functionality, but since we're complex-stepping through this and everything is complex-safe, this will work (probably with some performance penalty)."
      ]
    },
    {
      "cell_type": "code",
      "metadata": {
        "id": "hlzwQshjbhwp"
      },
      "source": [
        "def Thrust(u0, power, A, T, rho, kappa):\n",
        "    \"\"\"\n",
        "    This computes the thrust and induced velocity at the propeller disk.\n",
        "    This uses formulas from propeller momentum theory.\n",
        "\n",
        "    Parameters\n",
        "    ----------\n",
        "    u0 : float\n",
        "        Freestream speed normal to the propeller disk\n",
        "    power : float\n",
        "        Power supplied to the propeller disk\n",
        "    A : float\n",
        "        Propeller disk area\n",
        "    T : float\n",
        "        Thrust guess\n",
        "    rho : float\n",
        "        Air density\n",
        "    kappa: float\n",
        "        Correction factor for non-uniform inflow and tip effects\n",
        "\n",
        "    Returns\n",
        "    -------\n",
        "    thrust : float\n",
        "        Thrust\n",
        "    v_i : float\n",
        "        Induced velocity at the propeller disk\n",
        "    \"\"\"\n",
        "\n",
        "    T_old = T + 10.\n",
        "    thrust = T\n",
        "\n",
        "    # iteration loop to solve for the thrust as a function of power\n",
        "    while np.any(np.abs(T_old - thrust) > 1e-10):\n",
        "        T_old = thrust\n",
        "\n",
        "        # ### FPI (Fixed point iteration)\n",
        "        # T_new = power / (u0 + kappa * (-u0/2 + 0.5 * (u0**2 + 2 * thrust / rho / A)**0.5))\n",
        "        # thrust = thrust + (T_new - thrust) * 0.5\n",
        "\n",
        "        # # Newton-Raphson\n",
        "        with np.errstate(all='raise'):\n",
        "            try:\n",
        "                root_term = (u0**2 + 2 * thrust / rho / A)**0.5\n",
        "                R = power - thrust * (u0 + kappa * (-u0 / 2 + 0.5 * root_term))\n",
        "                R_prime = -u0 - kappa * ( -u0 / 2 + 0.5 * root_term + 0.5 * thrust / rho / A / root_term)\n",
        "                thrust = T_old - R / R_prime\n",
        "            except:\n",
        "                raise om.AnalysisError('invalid calc in thrust')\n",
        "\n",
        "\n",
        "    # the induced velocity (i.e., velocity added at the disk) is\n",
        "    v_i = (-u0 / 2 + (u0**2 / 4. + thrust / 2 / rho / A)**0.5)\n",
        "\n",
        "    return thrust, v_i"
      ],
      "execution_count": 10,
      "outputs": []
    },
    {
      "cell_type": "code",
      "metadata": {
        "id": "M6Xwj65pbik9"
      },
      "source": [
        "def Normal_force(u0, radius, thrust, alpha, rho, nB, bc):\n",
        "    \"\"\"\n",
        "    This computes the normal force developed by each propeller due to the incidence angle of the flow.\n",
        "    These equations are from \"Propeller at high incidence\" by de Young, 1965.\n",
        "\n",
        "    Parameters\n",
        "    ----------\n",
        "    u0 : float\n",
        "        Freestream speed\n",
        "    radius : float\n",
        "        Propeller radius\n",
        "    thrust : float\n",
        "        Propeller thrust\n",
        "    alpha: float\n",
        "        Incidence angle\n",
        "    rho : float\n",
        "        Air density\n",
        "    nB : float\n",
        "        Number of blades\n",
        "    bc : float\n",
        "        Effective blade chord\n",
        "\n",
        "    Returns\n",
        "    -------\n",
        "    normal_force : float\n",
        "        Normal force generated by one propeller\n",
        "    \"\"\"\n",
        "\n",
        "    # conversion factor to convert from m to ft becasue these emperical formulas use imperial units\n",
        "    m2f = 3.28\n",
        "\n",
        "    # propeller 0.75R pitch angle as a function of freestream\n",
        "    beta = 10 + u0 / 67. * 25\n",
        "\n",
        "    u0 = u0 * m2f * np.cos(alpha)\n",
        "    Diam = 2 * radius * m2f\n",
        "    rho = rho * 0.00194\n",
        "    c = bc * m2f\n",
        "\n",
        "    q = 0.5 * rho * u0**2\n",
        "    A_d = np.pi * Diam**2 / 4.\n",
        "    Tc = thrust / q / A_d\n",
        "    f = 1 + 0.5 * ((1 + Tc)**.5 - 1) + Tc / 4. / (2 + Tc)\n",
        "    sigma = 4 * nB / 3 / np.pi * c / Diam\n",
        "    slope = 4.25 * sigma / (1 + 2 * sigma) * np.sin(beta/180.*np.pi + 8./180.*np.pi) * f * q * A_d\n",
        "\n",
        "    normal_force = slope * np.tan(alpha) / 2.2046 * 9.81\n",
        "\n",
        "    return normal_force"
      ],
      "execution_count": 11,
      "outputs": []
    },
    {
      "cell_type": "code",
      "metadata": {
        "id": "Q01KjH4ObrYi"
      },
      "source": [
        "def CLfunc(angle, alpha_stall, AR, e, a0, t_over_c):\n",
        "    \"\"\"\n",
        "    This gives the lift coefficient of a wing as a function of angle of attack.\n",
        "\n",
        "    Parameters\n",
        "    ----------\n",
        "    angle : float\n",
        "        Angle of attack\n",
        "    alpha_stall : float\n",
        "        Stall angle of attack\n",
        "    AR : float\n",
        "        Aspect ratio\n",
        "    e : float\n",
        "        Span efficiency factor\n",
        "    a0 : float\n",
        "        Airfoil lift-curve slope\n",
        "    t_over_c : float\n",
        "        Thickness-to-chord ratio\n",
        "\n",
        "    Returns\n",
        "    -------\n",
        "    CL : float\n",
        "        Lift coefficient of the wing\n",
        "    \"\"\"\n",
        "    pos_idxs = np.where(angle >= 0)[0]\n",
        "    neg_idxs = np.where(angle < 0)[0]\n",
        "    CL = np.zeros_like(angle)\n",
        "\n",
        "    CLa = a0 / (1 + a0 / (np.pi * e * AR))\n",
        "    CL_stall = CLa * alpha_stall\n",
        "\n",
        "    # CD_max = (1. + 0.065 * AR) / (0.9 + t_over_c)\n",
        "    CD_max = 1.1 + 0.018 * AR\n",
        "\n",
        "    CL1 = CLa * angle\n",
        "\n",
        "    A1 = CD_max / 2\n",
        "    A2 = (CL_stall - CD_max * np.sin(alpha_stall) * np.cos(alpha_stall)) * np.sin(\n",
        "        alpha_stall) / np.cos(alpha_stall) ** 2\n",
        "    CL2 = A1 * np.sin(2 * angle) + A2 * np.cos(angle) ** 2 / np.sin(angle)\n",
        "\n",
        "    CL_array = np.vstack((-CL1, -CL2)).T\n",
        "    CL_array_neg = np.vstack((CL1, CL2)).T\n",
        "\n",
        "    ks_rho = 50. # Hard coded, see Martins and Poon 2005 for more\n",
        "\n",
        "    # Get the max at each node\n",
        "    fmax = np.max(CL_array, axis=1)\n",
        "    fmax_neg = np.max(CL_array_neg, axis=1)\n",
        "\n",
        "    with np.printoptions(linewidth=1024):\n",
        "        if np.any(angle >= 0):\n",
        "            sum_term = np.sum(np.exp(ks_rho * (CL_array[pos_idxs] - fmax[pos_idxs, np.newaxis])), axis=1)\n",
        "            CL[pos_idxs] = -(fmax[pos_idxs] + 1 / ks_rho * np.log(sum_term)).ravel()\n",
        "        if np.any(angle < 0):\n",
        "            sum_term = np.sum(np.exp(ks_rho * (CL_array_neg[neg_idxs] - fmax_neg[neg_idxs, np.newaxis])), axis=1)\n",
        "            CL[neg_idxs] = (fmax_neg[neg_idxs] + 1 / ks_rho * np.log(sum_term)).ravel()\n",
        "\n",
        "    return CL"
      ],
      "execution_count": 12,
      "outputs": []
    },
    {
      "cell_type": "code",
      "metadata": {
        "id": "NFceJpOJbwNr"
      },
      "source": [
        "def CDfunc(angle, AR, e, alpha_stall, coeffs, a0, t_over_c):\n",
        "    \"\"\"\n",
        "    This gives the drag coefficient of a wing as a function of angle of attack.\n",
        "\n",
        "    Parameters\n",
        "    ----------\n",
        "    angle : float\n",
        "        Angle of attack\n",
        "    AR : float\n",
        "        Aspect ratio\n",
        "    e : float\n",
        "        Span efficiency factor\n",
        "    alpha_stall : float\n",
        "        Stall angle of attack\n",
        "    coeffs : array\n",
        "        Curve-fit polynomial coefficients for the drag coefficient below 27.5 deg\n",
        "    a0 : float\n",
        "        Airfoil lift-curve slope\n",
        "    t_over_c : float\n",
        "        Thickness-to-chord ratio\n",
        "\n",
        "    Returns\n",
        "    -------\n",
        "    CD : float\n",
        "        Drag coefficient of the wing\n",
        "    \"\"\"\n",
        "\n",
        "    quartic_poly_coeffs = coeffs\n",
        "\n",
        "    cla =  a0 / (1 + a0 / (np.pi * e * AR))\n",
        "    cl_stall = cla * alpha_stall\n",
        "    CD_stall = np.dot(quartic_poly_coeffs, np.array([1, alpha_stall**2, alpha_stall**4]))\n",
        "\n",
        "    CD_max = (1. + 0.065 * AR) / (0.9 + t_over_c)\n",
        "\n",
        "    B1 = CD_max\n",
        "    B2 = (CD_stall - CD_max * np.sin(alpha_stall)) / np.cos(alpha_stall)\n",
        "\n",
        "    ks_rho = 50. # Hard coded, see Martins and Poon 2005 for more\n",
        "\n",
        "    abs_angle = cs_abs(angle)\n",
        "\n",
        "    # this is for the first part (quartic fit)\n",
        "    CD_pt1 = np.dot(quartic_poly_coeffs, np.array([1, (27.5/180.*np.pi)**2, (27.5/180.*np.pi)**4])) * np.ones_like(abs_angle)\n",
        "    CD_pt2 = B1 * np.sin(28./180.*np.pi) + B2 * np.cos(28./180.*np.pi) * np.ones_like(abs_angle)\n",
        "\n",
        "    adjustment_line = (CD_pt2 - CD_pt1) / (0.5/180.*np.pi) * (abs_angle - 28./180.*np.pi) + CD_pt2\n",
        "\n",
        "    CD1 = np.dot(quartic_poly_coeffs, np.array([1, abs_angle**2, abs_angle**4]))\n",
        "\n",
        "    CD_array = np.vstack([CD1, adjustment_line]).T\n",
        "    fmax = np.max(CD_array, axis=1)\n",
        "    CD2 = (fmax + 1 / ks_rho * np.log(np.sum(np.exp(ks_rho * (CD_array - fmax[:, np.newaxis])))))\n",
        "\n",
        "    # this is for the second part (Tangler--Ostowari)\n",
        "    CD3 = B1 * np.sin(abs_angle) + B2 * np.cos(abs_angle)\n",
        "\n",
        "    CD_array = np.vstack([CD3, CD_pt1]).T\n",
        "    fmax = np.max(CD_array, axis=1)\n",
        "    CD4 = (fmax + 1 / ks_rho * np.log(np.sum(np.exp(ks_rho * (CD_array - fmax[:, np.newaxis])))))\n",
        "\n",
        "    # this puts them together\n",
        "    CD_array = np.vstack([-CD2, -CD4]).T\n",
        "    fmax = np.max(CD_array, axis=1)\n",
        "    CD4 = -(fmax + 1 / ks_rho * np.log(np.sum(np.exp(ks_rho * (CD_array - fmax[:, np.newaxis])))))\n",
        "\n",
        "    return CD4"
      ],
      "execution_count": 13,
      "outputs": []
    },
    {
      "cell_type": "code",
      "metadata": {
        "id": "kl_ex6T7b1Ez"
      },
      "source": [
        "def aero(atov, v_inf, theta, T, alpha_stall, CD0, AR, e, rho, S, m, a0, t_over_c, coeffs, v_i, v_factor, Normal_F):\n",
        "    aoa = atov - theta\n",
        "    v_chorwise = v_inf * np.cos(aoa)\n",
        "    v_normal = v_inf * np.sin(aoa)\n",
        "\n",
        "    v_chorwise += v_i * v_factor\n",
        "    v_blown = (v_chorwise ** 2 + v_normal ** 2) ** 0.5\n",
        "    aoa_blown = cs_atan2(v_normal, v_chorwise)\n",
        "\n",
        "    CL = CLfunc(aoa_blown, alpha_stall, AR, e, a0, t_over_c)\n",
        "    CD = CDfunc(aoa_blown, AR, e, alpha_stall, coeffs, a0, t_over_c)\n",
        "\n",
        "    # compute lift and drag forces\n",
        "    L = 0.5 * rho * v_blown ** 2 * CL * S\n",
        "    D_wings = 0.5 * rho * v_blown ** 2 * CD * S\n",
        "    D_fuse = 0.5 * rho * v_inf ** 2 * CD0 * S\n",
        "\n",
        "    return CL, CD, aoa_blown, L, D_wings, D_fuse, aoa_blown"
      ],
      "execution_count": 14,
      "outputs": []
    },
    {
      "cell_type": "markdown",
      "metadata": {
        "id": "B2xxW1gicS-4"
      },
      "source": [
        "The Dynamics component (the ODE for Dymos) that computes the rates of the state variables, as well as some auxiliary outputs."
      ]
    },
    {
      "cell_type": "code",
      "metadata": {
        "id": "tfpDQmMsb89z"
      },
      "source": [
        "class Dynamics(om.ExplicitComponent):\n",
        "    \"\"\"\n",
        "    This is the OpenMDAO component that takes the design variables and computes\n",
        "    the objective function and other quantities of interest.\n",
        "\n",
        "    Parameters\n",
        "    ----------\n",
        "    powers : array\n",
        "        Electrical power distribution as a function of time\n",
        "    thetas : array\n",
        "        Wing-angle-to-vertical distribution as a function of time\n",
        "    flight_time : float\n",
        "        Duration of flight\n",
        "\n",
        "    Returns\n",
        "    -------\n",
        "    x_dot : float\n",
        "        Final horizontal speed\n",
        "    y_dot : float\n",
        "        Final vertical speed\n",
        "    x : float\n",
        "        Final horizontal position\n",
        "    y : float\n",
        "        Final vertical position\n",
        "    y_min : float\n",
        "        Minimum vertical displacement\n",
        "    u_prop_min : float\n",
        "        Minimum propeller freestream inflow velocity\n",
        "    energy : float\n",
        "        Electrical energy consumed\n",
        "    aoa_max : float\n",
        "        Maximum effective angle of attack\n",
        "    aoa_min : float\n",
        "        Minimum effective angle of attack\n",
        "    acc_max : float\n",
        "        Maximum acceleration magnitude\n",
        "    \"\"\"\n",
        "\n",
        "    def initialize(self):\n",
        "        # declare the input dict provided in the run script\n",
        "        self.options.declare('input_dict', types=dict)\n",
        "        self.options.declare('num_nodes', types=(int,), default=1)\n",
        "\n",
        "    def setup(self):\n",
        "        input_dict = self.options['input_dict']\n",
        "\n",
        "        # # give variable names to user-specified values from input dict\n",
        "        self.A_disk = input_dict['A_disk']  # total propeller disk area\n",
        "        self.T_guess = input_dict['T_guess']  # initial thrust guess\n",
        "        self.alpha_stall = input_dict['alpha_stall']  # wing stall angle\n",
        "        self.CD0 = input_dict['CD0']  # coefficient of drag of the fuselage, gear, etc.\n",
        "        self.AR = input_dict['AR']  # aspect ratio\n",
        "        self.e = input_dict['e']  # span efficiency factor of each wing\n",
        "        self.rho = input_dict['rho']  # air density\n",
        "        self.S = input_dict['S']  # total wing reference area\n",
        "        self.m = input_dict['m']  # mass of aircraft\n",
        "        self.a0 = input_dict['a0']  # airfoil lift-curve slope\n",
        "        self.t_over_c = input_dict['t_over_c']  # airfoil thickness-to-chord ratio\n",
        "        self.v_factor = input_dict['induced_velocity_factor']  # induced-velocity factor\n",
        "        self.stall_option = input_dict[\n",
        "            'stall_option']  # stall option: 's' allows stall, 'ns' does not\n",
        "        # self.num_steps = input_dict['num_steps']  # number of time steps\n",
        "        self.R = input_dict['R']  # propeller radius\n",
        "        self.solidity = input_dict['solidity']  # propeller solidity\n",
        "        self.omega = input_dict['omega']  # propeller angular speed\n",
        "        self.prop_CD0 = input_dict['prop_CD0']  # CD0 for propeller profile power\n",
        "        self.k_elec = input_dict['k_elec']  # factor for mechanical and electrical losses\n",
        "        self.k_ind = input_dict['k_ind']  # factor for induced losses\n",
        "        self.nB = input_dict['nB']  # number of blades per propeller\n",
        "        self.bc = input_dict['bc']  # representative blade chord\n",
        "        self.n_props = input_dict['n_props']  # number of propellers\n",
        "\n",
        "        self.quartic_poly_coeffs, pts = give_curve_fit_coeffs(self.a0, self.AR, self.e)\n",
        "\n",
        "        # openmdao inputs to the component\n",
        "        nn = self.options['num_nodes']\n",
        "        self.add_input('power', val=np.ones(nn))\n",
        "        self.add_input('theta', val=np.ones(nn))\n",
        "        self.add_input('vx', val=np.ones(nn))\n",
        "        self.add_input('vy', val=np.ones(nn))\n",
        "\n",
        "        # openmdao outputs from the component\n",
        "        self.add_output('x_dot', val=np.ones(nn))\n",
        "        self.add_output('y_dot', val=np.ones(nn))\n",
        "        self.add_output('a_x', val=np.ones(nn))\n",
        "        self.add_output('a_y', val=np.ones(nn))\n",
        "        self.add_output('energy_dot', val=np.ones(nn))\n",
        "\n",
        "        self.add_output('acc', val=np.ones(nn))\n",
        "        self.add_output('CL', val=np.ones(nn))\n",
        "        self.add_output('CD', val=np.ones(nn))\n",
        "        self.add_output('L_wings', val=np.ones(nn))\n",
        "        self.add_output('D_wings', val=np.ones(nn))\n",
        "        self.add_output('atov', val=np.ones(nn))\n",
        "        self.add_output('D_fuse', val=np.ones(nn))        \n",
        "        self.add_output('aoa', val=np.ones(nn))\n",
        "        self.add_output('thrust', val=np.ones(nn))\n",
        "        self.add_output('vi', val=np.ones(nn))\n",
        "\n",
        "\n",
        "        # use complex step for partial derivatives\n",
        "        self.declare_partials('*', '*', method='fd')\n",
        "\n",
        "        # Partial derivative coloring\n",
        "        # self.declare_coloring(wrt=['*'], method='cs', tol=1.0E-12, num_full_jacs=5,\n",
        "        #                       show_summary=True, show_sparsity=True, min_improve_pct=10.)\n",
        "\n",
        "    def compute(self, inputs, outputs):\n",
        "\n",
        "        thrust = self.T_guess * np.ones(self.options['num_nodes'])\n",
        "        power = inputs['power']\n",
        "        theta = inputs['theta']\n",
        "\n",
        "        vx = inputs['vx']\n",
        "        vy = inputs['vy']\n",
        "\n",
        "        # the freestream angle relative to the vertical is\n",
        "        atov = cs_atan2(vx, vy)\n",
        "\n",
        "        # the freestream speed is\n",
        "        v_inf = (vx ** 2 + vy ** 2) ** 0.5\n",
        "\n",
        "        u_inf_prop = v_inf * np.cos(atov - theta)\n",
        "        u_parallel = v_inf * np.sin(atov - theta)\n",
        "\n",
        "        mu = u_parallel / (self.omega * self.R)\n",
        "        CP_profile = self.solidity * self.prop_CD0 / 8. * (1 + 4.6 * mu ** 2)\n",
        "        P_disk = self.k_elec * power - CP_profile * (self.rho * self.A_disk * (self.omega * self.R) ** 3)\n",
        "\n",
        "        thrust, vi = Thrust(u_inf_prop, P_disk, self.A_disk, thrust, self.rho, self.k_ind)\n",
        "\n",
        "        Normal_F = Normal_force(v_inf, self.R, thrust / self.n_props, atov - theta, self.rho, self.nB, self.bc)\n",
        "\n",
        "        CL, CD, aoa_blown, L, D_wings, D_fuse, aoa_blown = aero(atov, v_inf, theta, thrust, self.alpha_stall,\n",
        "                                                                self.CD0, self.AR, self.e, self.rho, self.S,\n",
        "                                                                self.m, self.a0, self.t_over_c,\n",
        "                                                                self.quartic_poly_coeffs, vi, self.v_factor,\n",
        "                                                                self.n_props * Normal_F)\n",
        "\n",
        "        # compute horizontal and vertical changes in velocity\n",
        "        outputs['atov'] = atov\n",
        "        outputs['x_dot'] = vx\n",
        "        outputs['y_dot'] = vy\n",
        "        outputs['a_x'] = (thrust * np.sin(theta) - D_fuse * np.sin(atov) -\n",
        "                          D_wings * np.sin(theta + aoa_blown) - L * np.cos(theta + aoa_blown) -\n",
        "                          self.n_props * Normal_F * np.cos(theta)) / self.m\n",
        "        outputs['a_y'] = (thrust * np.cos(theta) - D_fuse * np.cos(atov) -\n",
        "                          D_wings * np.cos(theta + aoa_blown) + L * np.sin(theta + aoa_blown)\n",
        "                          + self.n_props * Normal_F * np.sin(theta) - self.m * 9.81) / self.m\n",
        "        outputs['energy_dot'] = power\n",
        "\n",
        "        outputs['acc'] = np.sqrt(outputs['a_x']**2 + outputs['a_y']**2) / 9.81\n",
        "        outputs['CL'] = CL\n",
        "        outputs['CD'] = CD\n",
        "        outputs['L_wings'] = L\n",
        "        outputs['D_wings'] = D_wings\n",
        "        outputs['D_fuse'] = D_fuse\n",
        "        outputs['aoa'] = aoa_blown\n",
        "        outputs['thrust'] = thrust\n",
        "        outputs['vi'] = vi"
      ],
      "execution_count": 15,
      "outputs": []
    },
    {
      "cell_type": "code",
      "metadata": {
        "id": "ssr-vh6ycQf2",
        "outputId": "67b44800-c0d8-4af4-8454-fcfe6d7cb3be",
        "colab": {
          "base_uri": "https://localhost:8080/"
        }
      },
      "source": [
        "  input_arg_1 = 0.0\n",
        "\n",
        "  input_arg_2 = 'ns'\n",
        "\n",
        "  # Some specifications\n",
        "  prop_rad = 0.75\n",
        "  wing_S = 9.\n",
        "  wing_span = 6.\n",
        "  num_blades = 3.\n",
        "  blade_chord = 0.1\n",
        "  num_props = 8\n",
        "\n",
        "  # User-specified input dictionary\n",
        "  input_dict = {'T_guess': 9.8 * 725 * 1.2,  # initial thrust guess\n",
        "                'x_dot_initial': 0.,  # initial horizontal speed\n",
        "                'y_dot_initial': 0.01,  # initial vertical speed\n",
        "                'y_initial': 0.01,  # initial vertical displacement\n",
        "                'A_disk': np.pi * prop_rad ** 2 * num_props,  # total propeller disk area\n",
        "                'AR': wing_span ** 2 / (0.5 * wing_S),  # aspect ratio of each wing\n",
        "                'e': 0.68,  # span efficiency factor of each wing\n",
        "                't_over_c': 0.12,  # airfoil thickness-to-chord ratio\n",
        "                'S': wing_S,  # total wing reference area\n",
        "                'CD0': 0.35 / wing_S,  # coefficient of drag of the fuselage, gear, etc.\n",
        "                'm': 725.,  # mass of aircraft\n",
        "                'a0': 5.9,  # airfoil lift-curve slope\n",
        "                'alpha_stall': 15. / 180. * np.pi,  # wing stall angle\n",
        "                'rho': 1.225,  # air density\n",
        "                'induced_velocity_factor': int(input_arg_1) / 100.,  # induced-velocity factor\n",
        "                'stall_option': input_arg_2,  # stall option: 's' allows stall, 'ns' does not\n",
        "                'R': prop_rad,  # propeller radius\n",
        "                'solidity': num_blades * blade_chord / np.pi / prop_rad,  # solidity\n",
        "                'omega': 136. / prop_rad,  # angular rotation rate\n",
        "                'prop_CD0': 0.012,  # CD0 for prop profile power\n",
        "                'k_elec': 0.9,  # electrical and mechanical losses factor\n",
        "                'k_ind': 1.2,  # induced-losses factor\n",
        "                'nB': num_blades,  # number of blades per propeller\n",
        "                'bc': blade_chord,  # representative blade chord\n",
        "                'n_props': num_props  # number of propellers\n",
        "                }\n",
        "\n",
        "  p = om.Problem()\n",
        "\n",
        "  traj = dm.Trajectory()\n",
        "  p.model.add_subsystem('traj', traj)\n",
        "\n",
        "  phase = dm.Phase(transcription=dm.GaussLobatto(num_segments=10, order=3, solve_segments=False,\n",
        "                                                  compressed=False),\n",
        "                    ode_class=Dynamics,\n",
        "                    ode_init_kwargs={'input_dict': input_dict})\n",
        "\n",
        "  traj.add_phase('phase0', phase)\n",
        "\n",
        "  phase.set_time_options(fix_initial=True, duration_bounds=(5, 60), duration_ref=30)\n",
        "  phase.add_state('x', fix_initial=True, rate_source='x_dot', ref0=0, ref=900, defect_ref=100)\n",
        "  phase.add_state('y', fix_initial=True, rate_source='y_dot', ref0=0, ref=300, defect_ref=300)\n",
        "  phase.add_state('vx', fix_initial=True, rate_source='a_x', ref0=0, ref=10)\n",
        "  phase.add_state('vy', fix_initial=True, rate_source='a_y', ref0=0, ref=10)\n",
        "  phase.add_state('energy', fix_initial=True, rate_source='energy_dot', ref0=0, ref=1E7, defect_ref=1E5)\n",
        "\n",
        "  phase.add_control('power', lower=1e3, upper=311000, ref0=1e3, ref=311000, rate_continuity=False)\n",
        "  phase.add_control('theta', lower=0., upper=3 * np.pi / 4, ref0=0, ref=3 * np.pi / 4,\n",
        "                    rate_continuity=False)\n",
        "\n",
        "  phase.add_timeseries_output(['CL', 'CD'])\n",
        "\n",
        "  # Objective\n",
        "  phase.add_objective('energy', loc='final', ref0=0, ref=1E7)\n",
        "\n",
        "  # Boundary Constraints\n",
        "  phase.add_boundary_constraint('y', loc='final', lower=305,\n",
        "                                ref=100)  # Constraint for the final vertical displacement\n",
        "  phase.add_boundary_constraint('x', loc='final', equals=900,\n",
        "                                ref=100)  # Constraint for the final horizontal displacement\n",
        "  phase.add_boundary_constraint('x_dot', loc='final', equals=67.,\n",
        "                                ref=100)  # Constraint for the final horizontal speed\n",
        "\n",
        "  # Path Constraints\n",
        "  phase.add_path_constraint('y', lower=0., upper=305,\n",
        "                            ref=300)  # Constraint for the minimum vertical displacement\n",
        "  phase.add_path_constraint('acc', upper=0.3,\n",
        "                            ref=1.0)  # Constraint for the acceleration magnitude\n",
        "  phase.add_path_constraint('aoa', lower=-np.radians(15), upper=np.radians(15), ref0=-np.radians(15),\n",
        "                            ref=np.radians(15))  # Constraint for the angle of attack\n",
        "  phase.add_path_constraint('thrust', lower=10, ref0=10,\n",
        "                            ref=100)  # Constraint for the thrust magnitude\n",
        "\n",
        "  # # Setup the driver\n",
        "  p.driver = om.pyOptSparseDriver()\n",
        "\n",
        "  # p.driver.options['optimizer'] = 'SNOPT'\n",
        "  # p.driver.opt_settings['Major optimality tolerance'] = 1e-4\n",
        "  # p.driver.opt_settings['Major feasibility tolerance'] = 1e-6\n",
        "  # p.driver.opt_settings['Major iterations limit'] = 1000\n",
        "  # p.driver.opt_settings['Minor iterations limit'] = 100_000_000\n",
        "  # p.driver.opt_settings['iSumm'] = 6\n",
        "\n",
        "  p.driver.options['optimizer'] = 'IPOPT'\n",
        "  p.driver.opt_settings['max_iter'] = 1000\n",
        "  p.driver.opt_settings['alpha_for_y'] = 'safer-min-dual-infeas'\n",
        "  p.driver.opt_settings['print_level'] = 5\n",
        "  p.driver.opt_settings['nlp_scaling_method'] = 'gradient-based'\n",
        "  p.driver.opt_settings['tol'] = 5.0E-5\n",
        "\n",
        "  p.driver.declare_coloring(tol=1.0E-8)\n",
        "\n",
        "  # This line is temporary.  As of dymos 0.16.0, run_problem wil automatically save the solution to this file.\n",
        "  p.add_recorder(om.SqliteRecorder('dymos_solution.db'))\n",
        "\n",
        "  p.setup()\n",
        "\n",
        "  p.set_val('traj.phase0.t_initial', 0.0)\n",
        "  p.set_val('traj.phase0.t_duration', 30)\n",
        "  p.set_val('traj.phase0.states:x', phase.interpolate(ys=[0, 900], nodes='state_input'))\n",
        "  p.set_val('traj.phase0.states:y', phase.interpolate(ys=[0.01, 300], nodes='state_input'))\n",
        "  p.set_val('traj.phase0.states:vx', phase.interpolate(ys=[0, 60], nodes='state_input'))\n",
        "  p.set_val('traj.phase0.states:vy', phase.interpolate(ys=[0.01, 10], nodes='state_input'))\n",
        "  p.set_val('traj.phase0.states:energy', phase.interpolate(ys=[0, 1E7], nodes='state_input'))\n",
        "\n",
        "  p.set_val('traj.phase0.controls:power', 200000.0)\n",
        "  p.set_val('traj.phase0.controls:theta', phase.interpolate(ys=[0.001, np.radians(85)], nodes='control_input'))\n",
        "\n",
        "  dm.run_problem(p, run_driver=True, simulate=True)\n"
      ],
      "execution_count": 16,
      "outputs": [
        {
          "output_type": "stream",
          "text": [
            "/usr/local/lib/python3.6/dist-packages/openmdao/core/group.py:1683: UserWarning:'traj.phases.phase0' <class Phase>: Input 'traj.phases.phase0.state_interp.staterate_disc:x' with units of '1.0/s' is connected to output 'traj.phases.phase0.rhs_disc.x_dot' which has no units.\n",
            "/usr/local/lib/python3.6/dist-packages/openmdao/core/group.py:1683: UserWarning:'traj.phases.phase0' <class Phase>: Input 'traj.phases.phase0.interleave_comp.disc_values:state_rates:x' with units of '1.0/s' is connected to output 'traj.phases.phase0.rhs_disc.x_dot' which has no units.\n",
            "/usr/local/lib/python3.6/dist-packages/openmdao/core/group.py:1683: UserWarning:'traj.phases.phase0' <class Phase>: Input 'traj.phases.phase0.interleave_comp.col_values:state_rates:x' with units of '1.0/s' is connected to output 'traj.phases.phase0.rhs_col.x_dot' which has no units.\n",
            "/usr/local/lib/python3.6/dist-packages/openmdao/core/group.py:1683: UserWarning:'traj.phases.phase0' <class Phase>: Input 'traj.phases.phase0.state_interp.staterate_disc:y' with units of '1.0/s' is connected to output 'traj.phases.phase0.rhs_disc.y_dot' which has no units.\n",
            "/usr/local/lib/python3.6/dist-packages/openmdao/core/group.py:1683: UserWarning:'traj.phases.phase0' <class Phase>: Input 'traj.phases.phase0.interleave_comp.disc_values:state_rates:y' with units of '1.0/s' is connected to output 'traj.phases.phase0.rhs_disc.y_dot' which has no units.\n",
            "/usr/local/lib/python3.6/dist-packages/openmdao/core/group.py:1683: UserWarning:'traj.phases.phase0' <class Phase>: Input 'traj.phases.phase0.interleave_comp.col_values:state_rates:y' with units of '1.0/s' is connected to output 'traj.phases.phase0.rhs_col.y_dot' which has no units.\n",
            "/usr/local/lib/python3.6/dist-packages/openmdao/core/group.py:1683: UserWarning:'traj.phases.phase0' <class Phase>: Input 'traj.phases.phase0.state_interp.staterate_disc:vx' with units of '1.0/s' is connected to output 'traj.phases.phase0.rhs_disc.a_x' which has no units.\n",
            "/usr/local/lib/python3.6/dist-packages/openmdao/core/group.py:1683: UserWarning:'traj.phases.phase0' <class Phase>: Input 'traj.phases.phase0.interleave_comp.disc_values:state_rates:vx' with units of '1.0/s' is connected to output 'traj.phases.phase0.rhs_disc.a_x' which has no units.\n",
            "/usr/local/lib/python3.6/dist-packages/openmdao/core/group.py:1683: UserWarning:'traj.phases.phase0' <class Phase>: Input 'traj.phases.phase0.interleave_comp.col_values:state_rates:vx' with units of '1.0/s' is connected to output 'traj.phases.phase0.rhs_col.a_x' which has no units.\n",
            "/usr/local/lib/python3.6/dist-packages/openmdao/core/group.py:1683: UserWarning:'traj.phases.phase0' <class Phase>: Input 'traj.phases.phase0.state_interp.staterate_disc:vy' with units of '1.0/s' is connected to output 'traj.phases.phase0.rhs_disc.a_y' which has no units.\n",
            "/usr/local/lib/python3.6/dist-packages/openmdao/core/group.py:1683: UserWarning:'traj.phases.phase0' <class Phase>: Input 'traj.phases.phase0.interleave_comp.disc_values:state_rates:vy' with units of '1.0/s' is connected to output 'traj.phases.phase0.rhs_disc.a_y' which has no units.\n",
            "/usr/local/lib/python3.6/dist-packages/openmdao/core/group.py:1683: UserWarning:'traj.phases.phase0' <class Phase>: Input 'traj.phases.phase0.interleave_comp.col_values:state_rates:vy' with units of '1.0/s' is connected to output 'traj.phases.phase0.rhs_col.a_y' which has no units.\n",
            "/usr/local/lib/python3.6/dist-packages/openmdao/core/group.py:1683: UserWarning:'traj.phases.phase0' <class Phase>: Input 'traj.phases.phase0.state_interp.staterate_disc:energy' with units of '1.0/s' is connected to output 'traj.phases.phase0.rhs_disc.energy_dot' which has no units.\n",
            "/usr/local/lib/python3.6/dist-packages/openmdao/core/group.py:1683: UserWarning:'traj.phases.phase0' <class Phase>: Input 'traj.phases.phase0.interleave_comp.disc_values:state_rates:energy' with units of '1.0/s' is connected to output 'traj.phases.phase0.rhs_disc.energy_dot' which has no units.\n",
            "/usr/local/lib/python3.6/dist-packages/openmdao/core/group.py:1683: UserWarning:'traj.phases.phase0' <class Phase>: Input 'traj.phases.phase0.interleave_comp.col_values:state_rates:energy' with units of '1.0/s' is connected to output 'traj.phases.phase0.rhs_col.energy_dot' which has no units.\n",
            "/usr/local/lib/python3.6/dist-packages/openmdao/core/group.py:1683: UserWarning:'traj.phases.phase0' <class Phase>: Input 'traj.phases.phase0.collocation_constraint.f_computed:x' with units of '1.0/s' is connected to output 'traj.phases.phase0.rhs_col.x_dot' which has no units.\n",
            "/usr/local/lib/python3.6/dist-packages/openmdao/core/group.py:1683: UserWarning:'traj.phases.phase0' <class Phase>: Input 'traj.phases.phase0.collocation_constraint.f_computed:y' with units of '1.0/s' is connected to output 'traj.phases.phase0.rhs_col.y_dot' which has no units.\n",
            "/usr/local/lib/python3.6/dist-packages/openmdao/core/group.py:1683: UserWarning:'traj.phases.phase0' <class Phase>: Input 'traj.phases.phase0.collocation_constraint.f_computed:vx' with units of '1.0/s' is connected to output 'traj.phases.phase0.rhs_col.a_x' which has no units.\n",
            "/usr/local/lib/python3.6/dist-packages/openmdao/core/group.py:1683: UserWarning:'traj.phases.phase0' <class Phase>: Input 'traj.phases.phase0.collocation_constraint.f_computed:vy' with units of '1.0/s' is connected to output 'traj.phases.phase0.rhs_col.a_y' which has no units.\n",
            "/usr/local/lib/python3.6/dist-packages/openmdao/core/group.py:1683: UserWarning:'traj.phases.phase0' <class Phase>: Input 'traj.phases.phase0.collocation_constraint.f_computed:energy' with units of '1.0/s' is connected to output 'traj.phases.phase0.rhs_col.energy_dot' which has no units.\n"
          ],
          "name": "stderr"
        },
        {
          "output_type": "stream",
          "text": [
            "Full total jacobian was computed 3 times, taking 1.032147 seconds.\n",
            "Total jacobian shape: (172, 156) \n",
            "\n",
            "\n",
            "Jacobian shape: (172, 156)  (50.55% nonzero)\n",
            "FWD solves: 101   REV solves: 0\n",
            "Total colors vs. total size: 101 vs 156  (35.3% improvement)\n",
            "\n",
            "Sparsity computed using tolerance: 1e-08\n",
            "Time to compute sparsity: 1.032147 sec.\n",
            "Time to compute coloring: 0.039332 sec.\n",
            "\n",
            "\n",
            "Optimization Problem -- Optimization using pyOpt_sparse\n",
            "================================================================================\n",
            "    Objective Function: _objfunc\n",
            "\n",
            "    Solution: \n",
            "--------------------------------------------------------------------------------\n",
            "    Total Time:                   37.0045\n",
            "       User Objective Time :       0.8836\n",
            "       User Sensitivity Time :    32.7051\n",
            "       Interface Time :            1.1272\n",
            "       Opt Solver Time:            2.2886\n",
            "    Calls to Objective Function :     116\n",
            "    Calls to Sens Function :           95\n",
            "\n",
            "\n",
            "   Objectives\n",
            "      Index  Name                                                     Value          Optimum\n",
            "          0  traj.phases.phase0.indep_states.states:energy     6.696149E-01     0.000000E+00\n",
            "\n",
            "   Variables (c - continuous, i - integer, d - discrete)\n",
            "      Index  Name                                                                Type      Lower Bound            Value      Upper Bound     Status\n",
            "          0  traj.phases.phase0.time_extents.t_duration_0                           c     1.666667E-01     9.339868E-01     2.000000E+00           \n",
            "          1  traj.phases.phase0.indep_states.states:x_0                             c    -1.111111E+18     5.116871E-03     1.111111E+18           \n",
            "          2  traj.phases.phase0.indep_states.states:x_1                             c    -1.111111E+18     5.116871E-03     1.111111E+18           \n",
            "          3  traj.phases.phase0.indep_states.states:x_2                             c    -1.111111E+18     2.684440E-02     1.111111E+18           \n",
            "          4  traj.phases.phase0.indep_states.states:x_3                             c    -1.111111E+18     2.684440E-02     1.111111E+18           \n",
            "          5  traj.phases.phase0.indep_states.states:x_4                             c    -1.111111E+18     7.277275E-02     1.111111E+18           \n",
            "          6  traj.phases.phase0.indep_states.states:x_5                             c    -1.111111E+18     7.277275E-02     1.111111E+18           \n",
            "          7  traj.phases.phase0.indep_states.states:x_6                             c    -1.111111E+18     1.442670E-01     1.111111E+18           \n",
            "          8  traj.phases.phase0.indep_states.states:x_7                             c    -1.111111E+18     1.442670E-01     1.111111E+18           \n",
            "          9  traj.phases.phase0.indep_states.states:x_8                             c    -1.111111E+18     2.406373E-01     1.111111E+18           \n",
            "         10  traj.phases.phase0.indep_states.states:x_9                             c    -1.111111E+18     2.406373E-01     1.111111E+18           \n",
            "         11  traj.phases.phase0.indep_states.states:x_10                            c    -1.111111E+18     3.549666E-01     1.111111E+18           \n",
            "         12  traj.phases.phase0.indep_states.states:x_11                            c    -1.111111E+18     3.549666E-01     1.111111E+18           \n",
            "         13  traj.phases.phase0.indep_states.states:x_12                            c    -1.111111E+18     4.823351E-01     1.111111E+18           \n",
            "         14  traj.phases.phase0.indep_states.states:x_13                            c    -1.111111E+18     4.823351E-01     1.111111E+18           \n",
            "         15  traj.phases.phase0.indep_states.states:x_14                            c    -1.111111E+18     6.311590E-01     1.111111E+18           \n",
            "         16  traj.phases.phase0.indep_states.states:x_15                            c    -1.111111E+18     6.311590E-01     1.111111E+18           \n",
            "         17  traj.phases.phase0.indep_states.states:x_16                            c    -1.111111E+18     8.035409E-01     1.111111E+18           \n",
            "         18  traj.phases.phase0.indep_states.states:x_17                            c    -1.111111E+18     8.035409E-01     1.111111E+18           \n",
            "         19  traj.phases.phase0.indep_states.states:x_18                            c    -1.111111E+18     1.000000E+00     1.111111E+18           \n",
            "         20  traj.phases.phase0.indep_states.states:y_0                             c    -3.333333E+18     3.535139E-02     3.333333E+18           \n",
            "         21  traj.phases.phase0.indep_states.states:y_1                             c    -3.333333E+18     3.535139E-02     3.333333E+18           \n",
            "         22  traj.phases.phase0.indep_states.states:y_2                             c    -3.333333E+18     1.265774E-01     3.333333E+18           \n",
            "         23  traj.phases.phase0.indep_states.states:y_3                             c    -3.333333E+18     1.265774E-01     3.333333E+18           \n",
            "         24  traj.phases.phase0.indep_states.states:y_4                             c    -3.333333E+18     2.374831E-01     3.333333E+18           \n",
            "         25  traj.phases.phase0.indep_states.states:y_5                             c    -3.333333E+18     2.374831E-01     3.333333E+18           \n",
            "         26  traj.phases.phase0.indep_states.states:y_6                             c    -3.333333E+18     3.482946E-01     3.333333E+18           \n",
            "         27  traj.phases.phase0.indep_states.states:y_7                             c    -3.333333E+18     3.482946E-01     3.333333E+18           \n",
            "         28  traj.phases.phase0.indep_states.states:y_8                             c    -3.333333E+18     4.712249E-01     3.333333E+18           \n",
            "         29  traj.phases.phase0.indep_states.states:y_9                             c    -3.333333E+18     4.712249E-01     3.333333E+18           \n",
            "         30  traj.phases.phase0.indep_states.states:y_10                            c    -3.333333E+18     6.202966E-01     3.333333E+18           \n",
            "         31  traj.phases.phase0.indep_states.states:y_11                            c    -3.333333E+18     6.202966E-01     3.333333E+18           \n",
            "         32  traj.phases.phase0.indep_states.states:y_12                            c    -3.333333E+18     7.698837E-01     3.333333E+18           \n",
            "         33  traj.phases.phase0.indep_states.states:y_13                            c    -3.333333E+18     7.698837E-01     3.333333E+18           \n",
            "         34  traj.phases.phase0.indep_states.states:y_14                            c    -3.333333E+18     8.807442E-01     3.333333E+18           \n",
            "         35  traj.phases.phase0.indep_states.states:y_15                            c    -3.333333E+18     8.807442E-01     3.333333E+18           \n",
            "         36  traj.phases.phase0.indep_states.states:y_16                            c    -3.333333E+18     9.618668E-01     3.333333E+18           \n",
            "         37  traj.phases.phase0.indep_states.states:y_17                            c    -3.333333E+18     9.618668E-01     3.333333E+18           \n",
            "         38  traj.phases.phase0.indep_states.states:y_18                            c    -3.333333E+18     1.016667E+00     3.333333E+18           \n",
            "         39  traj.phases.phase0.indep_states.states:vx_0                            c    -1.000000E+20     3.739427E-01     1.000000E+20           \n",
            "         40  traj.phases.phase0.indep_states.states:vx_1                            c    -1.000000E+20     3.739427E-01     1.000000E+20           \n",
            "         41  traj.phases.phase0.indep_states.states:vx_2                            c    -1.000000E+20     1.066686E+00     1.000000E+20           \n",
            "         42  traj.phases.phase0.indep_states.states:vx_3                            c    -1.000000E+20     1.066686E+00     1.000000E+20           \n",
            "         43  traj.phases.phase0.indep_states.states:vx_4                            c    -1.000000E+20     1.886146E+00     1.000000E+20           \n",
            "         44  traj.phases.phase0.indep_states.states:vx_5                            c    -1.000000E+20     1.886146E+00     1.000000E+20           \n",
            "         45  traj.phases.phase0.indep_states.states:vx_6                            c    -1.000000E+20     2.705235E+00     1.000000E+20           \n",
            "         46  traj.phases.phase0.indep_states.states:vx_7                            c    -1.000000E+20     2.705235E+00     1.000000E+20           \n",
            "         47  traj.phases.phase0.indep_states.states:vx_8                            c    -1.000000E+20     3.444128E+00     1.000000E+20           \n",
            "         48  traj.phases.phase0.indep_states.states:vx_9                            c    -1.000000E+20     3.444128E+00     1.000000E+20           \n",
            "         49  traj.phases.phase0.indep_states.states:vx_10                           c    -1.000000E+20     3.841238E+00     1.000000E+20           \n",
            "         50  traj.phases.phase0.indep_states.states:vx_11                           c    -1.000000E+20     3.841238E+00     1.000000E+20           \n",
            "         51  traj.phases.phase0.indep_states.states:vx_12                           c    -1.000000E+20     4.418576E+00     1.000000E+20           \n",
            "         52  traj.phases.phase0.indep_states.states:vx_13                           c    -1.000000E+20     4.418576E+00     1.000000E+20           \n",
            "         53  traj.phases.phase0.indep_states.states:vx_14                           c    -1.000000E+20     5.155304E+00     1.000000E+20           \n",
            "         54  traj.phases.phase0.indep_states.states:vx_15                           c    -1.000000E+20     5.155304E+00     1.000000E+20           \n",
            "         55  traj.phases.phase0.indep_states.states:vx_16                           c    -1.000000E+20     5.922102E+00     1.000000E+20           \n",
            "         56  traj.phases.phase0.indep_states.states:vx_17                           c    -1.000000E+20     5.922102E+00     1.000000E+20           \n",
            "         57  traj.phases.phase0.indep_states.states:vx_18                           c    -1.000000E+20     6.700000E+00     1.000000E+20           \n",
            "         58  traj.phases.phase0.indep_states.states:vy_0                            c    -1.000000E+20     7.295984E-01     1.000000E+20           \n",
            "         59  traj.phases.phase0.indep_states.states:vy_1                            c    -1.000000E+20     7.295984E-01     1.000000E+20           \n",
            "         60  traj.phases.phase0.indep_states.states:vy_2                            c    -1.000000E+20     1.149272E+00     1.000000E+20           \n",
            "         61  traj.phases.phase0.indep_states.states:vy_3                            c    -1.000000E+20     1.149272E+00     1.000000E+20           \n",
            "         62  traj.phases.phase0.indep_states.states:vy_4                            c    -1.000000E+20     1.183438E+00     1.000000E+20           \n",
            "         63  traj.phases.phase0.indep_states.states:vy_5                            c    -1.000000E+20     1.183438E+00     1.000000E+20           \n",
            "         64  traj.phases.phase0.indep_states.states:vy_6                            c    -1.000000E+20     1.212436E+00     1.000000E+20           \n",
            "         65  traj.phases.phase0.indep_states.states:vy_7                            c    -1.000000E+20     1.212436E+00     1.000000E+20           \n",
            "         66  traj.phases.phase0.indep_states.states:vy_8                            c    -1.000000E+20     1.465915E+00     1.000000E+20           \n",
            "         67  traj.phases.phase0.indep_states.states:vy_9                            c    -1.000000E+20     1.465915E+00     1.000000E+20           \n",
            "         68  traj.phases.phase0.indep_states.states:vy_10                           c    -1.000000E+20     1.715653E+00     1.000000E+20           \n",
            "         69  traj.phases.phase0.indep_states.states:vy_11                           c    -1.000000E+20     1.715653E+00     1.000000E+20           \n",
            "         70  traj.phases.phase0.indep_states.states:vy_12                           c    -1.000000E+20     1.370190E+00     1.000000E+20           \n",
            "         71  traj.phases.phase0.indep_states.states:vy_13                           c    -1.000000E+20     1.370190E+00     1.000000E+20           \n",
            "         72  traj.phases.phase0.indep_states.states:vy_14                           c    -1.000000E+20     1.020487E+00     1.000000E+20           \n",
            "         73  traj.phases.phase0.indep_states.states:vy_15                           c    -1.000000E+20     1.020487E+00     1.000000E+20           \n",
            "         74  traj.phases.phase0.indep_states.states:vy_16                           c    -1.000000E+20     7.235826E-01     1.000000E+20           \n",
            "         75  traj.phases.phase0.indep_states.states:vy_17                           c    -1.000000E+20     7.235826E-01     1.000000E+20           \n",
            "         76  traj.phases.phase0.indep_states.states:vy_18                           c    -1.000000E+20     4.532705E-01     1.000000E+20           \n",
            "         77  traj.phases.phase0.indep_states.states:energy_0                        c    -1.000000E+14     6.204704E-02     1.000000E+14           \n",
            "         78  traj.phases.phase0.indep_states.states:energy_1                        c    -1.000000E+14     6.204704E-02     1.000000E+14           \n",
            "         79  traj.phases.phase0.indep_states.states:energy_2                        c    -1.000000E+14     1.267272E-01     1.000000E+14           \n",
            "         80  traj.phases.phase0.indep_states.states:energy_3                        c    -1.000000E+14     1.267272E-01     1.000000E+14           \n",
            "         81  traj.phases.phase0.indep_states.states:energy_4                        c    -1.000000E+14     1.867075E-01     1.000000E+14           \n",
            "         82  traj.phases.phase0.indep_states.states:energy_5                        c    -1.000000E+14     1.867075E-01     1.000000E+14           \n",
            "         83  traj.phases.phase0.indep_states.states:energy_6                        c    -1.000000E+14     2.469980E-01     1.000000E+14           \n",
            "         84  traj.phases.phase0.indep_states.states:energy_7                        c    -1.000000E+14     2.469980E-01     1.000000E+14           \n",
            "         85  traj.phases.phase0.indep_states.states:energy_8                        c    -1.000000E+14     3.150269E-01     1.000000E+14           \n",
            "         86  traj.phases.phase0.indep_states.states:energy_9                        c    -1.000000E+14     3.150269E-01     1.000000E+14           \n",
            "         87  traj.phases.phase0.indep_states.states:energy_10                       c    -1.000000E+14     3.822111E-01     1.000000E+14           \n",
            "         88  traj.phases.phase0.indep_states.states:energy_11                       c    -1.000000E+14     3.822111E-01     1.000000E+14           \n",
            "         89  traj.phases.phase0.indep_states.states:energy_12                       c    -1.000000E+14     4.483800E-01     1.000000E+14           \n",
            "         90  traj.phases.phase0.indep_states.states:energy_13                       c    -1.000000E+14     4.483800E-01     1.000000E+14           \n",
            "         91  traj.phases.phase0.indep_states.states:energy_14                       c    -1.000000E+14     5.176015E-01     1.000000E+14           \n",
            "         92  traj.phases.phase0.indep_states.states:energy_15                       c    -1.000000E+14     5.176015E-01     1.000000E+14           \n",
            "         93  traj.phases.phase0.indep_states.states:energy_16                       c    -1.000000E+14     5.907614E-01     1.000000E+14           \n",
            "         94  traj.phases.phase0.indep_states.states:energy_17                       c    -1.000000E+14     5.907614E-01     1.000000E+14           \n",
            "         95  traj.phases.phase0.indep_states.states:energy_18                       c    -1.000000E+14     6.696149E-01     1.000000E+14           \n",
            "         96  traj.phases.phase0.control_group.indep_controls.controls:power_0       c     0.000000E+00     6.672243E-01     1.000000E+00           \n",
            "         97  traj.phases.phase0.control_group.indep_controls.controls:power_1       c     0.000000E+00     7.137254E-01     1.000000E+00           \n",
            "         98  traj.phases.phase0.control_group.indep_controls.controls:power_2       c     0.000000E+00     7.444845E-01     1.000000E+00           \n",
            "         99  traj.phases.phase0.control_group.indep_controls.controls:power_3       c     0.000000E+00     7.444845E-01     1.000000E+00           \n",
            "        100  traj.phases.phase0.control_group.indep_controls.controls:power_4       c     0.000000E+00     7.468674E-01     1.000000E+00           \n",
            "        101  traj.phases.phase0.control_group.indep_controls.controls:power_5       c     0.000000E+00     7.165418E-01     1.000000E+00           \n",
            "        102  traj.phases.phase0.control_group.indep_controls.controls:power_6       c     0.000000E+00     7.165418E-01     1.000000E+00           \n",
            "        103  traj.phases.phase0.control_group.indep_controls.controls:power_7       c     0.000000E+00     6.870048E-01     1.000000E+00           \n",
            "        104  traj.phases.phase0.control_group.indep_controls.controls:power_8       c     0.000000E+00     6.592845E-01     1.000000E+00           \n",
            "        105  traj.phases.phase0.control_group.indep_controls.controls:power_9       c     0.000000E+00     6.592845E-01     1.000000E+00           \n",
            "        106  traj.phases.phase0.control_group.indep_controls.controls:power_10      c     0.000000E+00     6.924870E-01     1.000000E+00           \n",
            "        107  traj.phases.phase0.control_group.indep_controls.controls:power_11      c     0.000000E+00     7.160441E-01     1.000000E+00           \n",
            "        108  traj.phases.phase0.control_group.indep_controls.controls:power_12      c     0.000000E+00     7.160441E-01     1.000000E+00           \n",
            "        109  traj.phases.phase0.control_group.indep_controls.controls:power_13      c     0.000000E+00     7.913565E-01     1.000000E+00           \n",
            "        110  traj.phases.phase0.control_group.indep_controls.controls:power_14      c     0.000000E+00     7.983450E-01     1.000000E+00           \n",
            "        111  traj.phases.phase0.control_group.indep_controls.controls:power_15      c     0.000000E+00     7.983450E-01     1.000000E+00           \n",
            "        112  traj.phases.phase0.control_group.indep_controls.controls:power_16      c     0.000000E+00     7.691961E-01     1.000000E+00           \n",
            "        113  traj.phases.phase0.control_group.indep_controls.controls:power_17      c     0.000000E+00     7.463366E-01     1.000000E+00           \n",
            "        114  traj.phases.phase0.control_group.indep_controls.controls:power_18      c     0.000000E+00     7.463366E-01     1.000000E+00           \n",
            "        115  traj.phases.phase0.control_group.indep_controls.controls:power_19      c     0.000000E+00     7.628847E-01     1.000000E+00           \n",
            "        116  traj.phases.phase0.control_group.indep_controls.controls:power_20      c     0.000000E+00     7.534551E-01     1.000000E+00           \n",
            "        117  traj.phases.phase0.control_group.indep_controls.controls:power_21      c     0.000000E+00     7.534551E-01     1.000000E+00           \n",
            "        118  traj.phases.phase0.control_group.indep_controls.controls:power_22      c     0.000000E+00     7.999043E-01     1.000000E+00           \n",
            "        119  traj.phases.phase0.control_group.indep_controls.controls:power_23      c     0.000000E+00     8.091208E-01     1.000000E+00           \n",
            "        120  traj.phases.phase0.control_group.indep_controls.controls:power_24      c     0.000000E+00     8.091208E-01     1.000000E+00           \n",
            "        121  traj.phases.phase0.control_group.indep_controls.controls:power_25      c     0.000000E+00     8.398974E-01     1.000000E+00           \n",
            "        122  traj.phases.phase0.control_group.indep_controls.controls:power_26      c     0.000000E+00     8.655354E-01     1.000000E+00           \n",
            "        123  traj.phases.phase0.control_group.indep_controls.controls:power_27      c     0.000000E+00     8.655354E-01     1.000000E+00           \n",
            "        124  traj.phases.phase0.control_group.indep_controls.controls:power_28      c     0.000000E+00     9.044398E-01     1.000000E+00           \n",
            "        125  traj.phases.phase0.control_group.indep_controls.controls:power_29      c     0.000000E+00     9.442408E-01     1.000000E+00           \n",
            "        126  traj.phases.phase0.control_group.indep_controls.controls:theta_0       c     0.000000E+00     3.159910E-02     1.000000E+00           \n",
            "        127  traj.phases.phase0.control_group.indep_controls.controls:theta_1       c     0.000000E+00     5.042657E-02     1.000000E+00           \n",
            "        128  traj.phases.phase0.control_group.indep_controls.controls:theta_2       c     0.000000E+00     9.058780E-02     1.000000E+00           \n",
            "        129  traj.phases.phase0.control_group.indep_controls.controls:theta_3       c     0.000000E+00     9.058780E-02     1.000000E+00           \n",
            "        130  traj.phases.phase0.control_group.indep_controls.controls:theta_4       c     0.000000E+00     1.453462E-01     1.000000E+00           \n",
            "        131  traj.phases.phase0.control_group.indep_controls.controls:theta_5       c     0.000000E+00     2.070776E-01     1.000000E+00           \n",
            "        132  traj.phases.phase0.control_group.indep_controls.controls:theta_6       c     0.000000E+00     2.070776E-01     1.000000E+00           \n",
            "        133  traj.phases.phase0.control_group.indep_controls.controls:theta_7       c     0.000000E+00     2.663658E-01     1.000000E+00           \n",
            "        134  traj.phases.phase0.control_group.indep_controls.controls:theta_8       c     0.000000E+00     3.236664E-01     1.000000E+00           \n",
            "        135  traj.phases.phase0.control_group.indep_controls.controls:theta_9       c     0.000000E+00     3.236664E-01     1.000000E+00           \n",
            "        136  traj.phases.phase0.control_group.indep_controls.controls:theta_10      c     0.000000E+00     3.660260E-01     1.000000E+00           \n",
            "        137  traj.phases.phase0.control_group.indep_controls.controls:theta_11      c     0.000000E+00     4.019835E-01     1.000000E+00           \n",
            "        138  traj.phases.phase0.control_group.indep_controls.controls:theta_12      c     0.000000E+00     4.019835E-01     1.000000E+00           \n",
            "        139  traj.phases.phase0.control_group.indep_controls.controls:theta_13      c     0.000000E+00     4.203404E-01     1.000000E+00           \n",
            "        140  traj.phases.phase0.control_group.indep_controls.controls:theta_14      c     0.000000E+00     4.271486E-01     1.000000E+00           \n",
            "        141  traj.phases.phase0.control_group.indep_controls.controls:theta_15      c     0.000000E+00     4.271486E-01     1.000000E+00           \n",
            "        142  traj.phases.phase0.control_group.indep_controls.controls:theta_16      c     0.000000E+00     4.331409E-01     1.000000E+00           \n",
            "        143  traj.phases.phase0.control_group.indep_controls.controls:theta_17      c     0.000000E+00     4.303808E-01     1.000000E+00           \n",
            "        144  traj.phases.phase0.control_group.indep_controls.controls:theta_18      c     0.000000E+00     4.303808E-01     1.000000E+00           \n",
            "        145  traj.phases.phase0.control_group.indep_controls.controls:theta_19      c     0.000000E+00     4.675338E-01     1.000000E+00           \n",
            "        146  traj.phases.phase0.control_group.indep_controls.controls:theta_20      c     0.000000E+00     5.021604E-01     1.000000E+00           \n",
            "        147  traj.phases.phase0.control_group.indep_controls.controls:theta_21      c     0.000000E+00     5.021604E-01     1.000000E+00           \n",
            "        148  traj.phases.phase0.control_group.indep_controls.controls:theta_22      c     0.000000E+00     5.284889E-01     1.000000E+00           \n",
            "        149  traj.phases.phase0.control_group.indep_controls.controls:theta_23      c     0.000000E+00     5.516047E-01     1.000000E+00           \n",
            "        150  traj.phases.phase0.control_group.indep_controls.controls:theta_24      c     0.000000E+00     5.516047E-01     1.000000E+00           \n",
            "        151  traj.phases.phase0.control_group.indep_controls.controls:theta_25      c     0.000000E+00     5.713112E-01     1.000000E+00           \n",
            "        152  traj.phases.phase0.control_group.indep_controls.controls:theta_26      c     0.000000E+00     5.884544E-01     1.000000E+00           \n",
            "        153  traj.phases.phase0.control_group.indep_controls.controls:theta_27      c     0.000000E+00     5.884544E-01     1.000000E+00           \n",
            "        154  traj.phases.phase0.control_group.indep_controls.controls:theta_28      c     0.000000E+00     6.032220E-01     1.000000E+00           \n",
            "        155  traj.phases.phase0.control_group.indep_controls.controls:theta_29      c     0.000000E+00     6.161817E-01     1.000000E+00           \n",
            "\n",
            "   Constraints (i - inequality, e - equality)\n",
            "      Index  Name                                                            Type          Lower           Value           Upper    Status  Lagrange Multiplier (N/A)\n",
            "          0  traj.phases.phase0.collocation_constraint.defects:x                e   0.000000E+00   -2.567188E-13    0.000000E+00              9.00000E+100\n",
            "          1  traj.phases.phase0.collocation_constraint.defects:x                e   0.000000E+00   -4.411414E-12    0.000000E+00              9.00000E+100\n",
            "          2  traj.phases.phase0.collocation_constraint.defects:x                e   0.000000E+00    9.495035E-12    0.000000E+00              9.00000E+100\n",
            "          3  traj.phases.phase0.collocation_constraint.defects:x                e   0.000000E+00    2.356777E-10    0.000000E+00              9.00000E+100\n",
            "          4  traj.phases.phase0.collocation_constraint.defects:x                e   0.000000E+00    8.937217E-11    0.000000E+00              9.00000E+100\n",
            "          5  traj.phases.phase0.collocation_constraint.defects:x                e   0.000000E+00   -5.886123E-11    0.000000E+00              9.00000E+100\n",
            "          6  traj.phases.phase0.collocation_constraint.defects:x                e   0.000000E+00    6.442882E-11    0.000000E+00              9.00000E+100\n",
            "          7  traj.phases.phase0.collocation_constraint.defects:x                e   0.000000E+00    1.753974E-11    0.000000E+00              9.00000E+100\n",
            "          8  traj.phases.phase0.collocation_constraint.defects:x                e   0.000000E+00    1.238746E-11    0.000000E+00              9.00000E+100\n",
            "          9  traj.phases.phase0.collocation_constraint.defects:x                e   0.000000E+00   -4.811279E-11    0.000000E+00              9.00000E+100\n",
            "         10  traj.phases.phase0.collocation_constraint.defects:y                e   0.000000E+00    3.137533E-13    0.000000E+00              9.00000E+100\n",
            "         11  traj.phases.phase0.collocation_constraint.defects:y                e   0.000000E+00   -3.434092E-12    0.000000E+00              9.00000E+100\n",
            "         12  traj.phases.phase0.collocation_constraint.defects:y                e   0.000000E+00   -5.930306E-12    0.000000E+00              9.00000E+100\n",
            "         13  traj.phases.phase0.collocation_constraint.defects:y                e   0.000000E+00    1.665361E-10    0.000000E+00              9.00000E+100\n",
            "         14  traj.phases.phase0.collocation_constraint.defects:y                e   0.000000E+00   -2.635562E-12    0.000000E+00              9.00000E+100\n",
            "         15  traj.phases.phase0.collocation_constraint.defects:y                e   0.000000E+00    4.148528E-11    0.000000E+00              9.00000E+100\n",
            "         16  traj.phases.phase0.collocation_constraint.defects:y                e   0.000000E+00   -3.311556E-11    0.000000E+00              9.00000E+100\n",
            "         17  traj.phases.phase0.collocation_constraint.defects:y                e   0.000000E+00    3.064280E-12    0.000000E+00              9.00000E+100\n",
            "         18  traj.phases.phase0.collocation_constraint.defects:y                e   0.000000E+00    1.118393E-11    0.000000E+00              9.00000E+100\n",
            "         19  traj.phases.phase0.collocation_constraint.defects:y                e   0.000000E+00   -1.436199E-11    0.000000E+00              9.00000E+100\n",
            "         20  traj.phases.phase0.collocation_constraint.defects:vx               e   0.000000E+00   -1.010668E-12    0.000000E+00              9.00000E+100\n",
            "         21  traj.phases.phase0.collocation_constraint.defects:vx               e   0.000000E+00    3.807658E-11    0.000000E+00              9.00000E+100\n",
            "         22  traj.phases.phase0.collocation_constraint.defects:vx               e   0.000000E+00   -2.962755E-10    0.000000E+00              9.00000E+100\n",
            "         23  traj.phases.phase0.collocation_constraint.defects:vx               e   0.000000E+00    7.254550E-11    0.000000E+00              9.00000E+100\n",
            "         24  traj.phases.phase0.collocation_constraint.defects:vx               e   0.000000E+00    1.060682E-09    0.000000E+00              9.00000E+100\n",
            "         25  traj.phases.phase0.collocation_constraint.defects:vx               e   0.000000E+00    6.607510E-09    0.000000E+00              9.00000E+100\n",
            "         26  traj.phases.phase0.collocation_constraint.defects:vx               e   0.000000E+00   -4.192423E-10    0.000000E+00              9.00000E+100\n",
            "         27  traj.phases.phase0.collocation_constraint.defects:vx               e   0.000000E+00   -3.482362E-10    0.000000E+00              9.00000E+100\n",
            "         28  traj.phases.phase0.collocation_constraint.defects:vx               e   0.000000E+00   -7.942539E-10    0.000000E+00              9.00000E+100\n",
            "         29  traj.phases.phase0.collocation_constraint.defects:vx               e   0.000000E+00    1.728915E-09    0.000000E+00              9.00000E+100\n",
            "         30  traj.phases.phase0.collocation_constraint.defects:vy               e   0.000000E+00   -9.833677E-12    0.000000E+00              9.00000E+100\n",
            "         31  traj.phases.phase0.collocation_constraint.defects:vy               e   0.000000E+00   -3.376087E-11    0.000000E+00              9.00000E+100\n",
            "         32  traj.phases.phase0.collocation_constraint.defects:vy               e   0.000000E+00    3.326442E-09    0.000000E+00              9.00000E+100\n",
            "         33  traj.phases.phase0.collocation_constraint.defects:vy               e   0.000000E+00    5.912099E-10    0.000000E+00              9.00000E+100\n",
            "         34  traj.phases.phase0.collocation_constraint.defects:vy               e   0.000000E+00    8.289446E-10    0.000000E+00              9.00000E+100\n",
            "         35  traj.phases.phase0.collocation_constraint.defects:vy               e   0.000000E+00    1.552316E-09    0.000000E+00              9.00000E+100\n",
            "         36  traj.phases.phase0.collocation_constraint.defects:vy               e   0.000000E+00    6.145379E-10    0.000000E+00              9.00000E+100\n",
            "         37  traj.phases.phase0.collocation_constraint.defects:vy               e   0.000000E+00   -3.496559E-10    0.000000E+00              9.00000E+100\n",
            "         38  traj.phases.phase0.collocation_constraint.defects:vy               e   0.000000E+00   -2.286037E-09    0.000000E+00              9.00000E+100\n",
            "         39  traj.phases.phase0.collocation_constraint.defects:vy               e   0.000000E+00   -9.461248E-10    0.000000E+00              9.00000E+100\n",
            "         40  traj.phases.phase0.collocation_constraint.defects:energy           e   0.000000E+00   -5.675725E-12    0.000000E+00              9.00000E+100\n",
            "         41  traj.phases.phase0.collocation_constraint.defects:energy           e   0.000000E+00   -1.107994E-10    0.000000E+00              9.00000E+100\n",
            "         42  traj.phases.phase0.collocation_constraint.defects:energy           e   0.000000E+00    4.446866E-10    0.000000E+00              9.00000E+100\n",
            "         43  traj.phases.phase0.collocation_constraint.defects:energy           e   0.000000E+00    3.424929E-10    0.000000E+00              9.00000E+100\n",
            "         44  traj.phases.phase0.collocation_constraint.defects:energy           e   0.000000E+00   -9.909234E-10    0.000000E+00              9.00000E+100\n",
            "         45  traj.phases.phase0.collocation_constraint.defects:energy           e   0.000000E+00    1.149742E-09    0.000000E+00              9.00000E+100\n",
            "         46  traj.phases.phase0.collocation_constraint.defects:energy           e   0.000000E+00    1.821215E-10    0.000000E+00              9.00000E+100\n",
            "         47  traj.phases.phase0.collocation_constraint.defects:energy           e   0.000000E+00   -2.133388E-10    0.000000E+00              9.00000E+100\n",
            "         48  traj.phases.phase0.collocation_constraint.defects:energy           e   0.000000E+00    2.041065E-09    0.000000E+00              9.00000E+100\n",
            "         49  traj.phases.phase0.collocation_constraint.defects:energy           e   0.000000E+00   -2.149065E-09    0.000000E+00              9.00000E+100\n",
            "         50  traj.phases.phase0.continuity_comp.defect_states:x                 e   0.000000E+00   -8.881784E-16    0.000000E+00              9.00000E+100\n",
            "         51  traj.phases.phase0.continuity_comp.defect_states:x                 e   0.000000E+00    0.000000E+00    0.000000E+00              9.00000E+100\n",
            "         52  traj.phases.phase0.continuity_comp.defect_states:x                 e   0.000000E+00    0.000000E+00    0.000000E+00              9.00000E+100\n",
            "         53  traj.phases.phase0.continuity_comp.defect_states:x                 e   0.000000E+00    0.000000E+00    0.000000E+00              9.00000E+100\n",
            "         54  traj.phases.phase0.continuity_comp.defect_states:x                 e   0.000000E+00    0.000000E+00    0.000000E+00              9.00000E+100\n",
            "         55  traj.phases.phase0.continuity_comp.defect_states:x                 e   0.000000E+00    0.000000E+00    0.000000E+00              9.00000E+100\n",
            "         56  traj.phases.phase0.continuity_comp.defect_states:x                 e   0.000000E+00    0.000000E+00    0.000000E+00              9.00000E+100\n",
            "         57  traj.phases.phase0.continuity_comp.defect_states:x                 e   0.000000E+00    0.000000E+00    0.000000E+00              9.00000E+100\n",
            "         58  traj.phases.phase0.continuity_comp.defect_states:x                 e   0.000000E+00    0.000000E+00    0.000000E+00              9.00000E+100\n",
            "         59  traj.phases.phase0.continuity_comp.defect_states:y                 e   0.000000E+00    0.000000E+00    0.000000E+00              9.00000E+100\n",
            "         60  traj.phases.phase0.continuity_comp.defect_states:y                 e   0.000000E+00    0.000000E+00    0.000000E+00              9.00000E+100\n",
            "         61  traj.phases.phase0.continuity_comp.defect_states:y                 e   0.000000E+00   -1.421085E-14    0.000000E+00              9.00000E+100\n",
            "         62  traj.phases.phase0.continuity_comp.defect_states:y                 e   0.000000E+00    0.000000E+00    0.000000E+00              9.00000E+100\n",
            "         63  traj.phases.phase0.continuity_comp.defect_states:y                 e   0.000000E+00    0.000000E+00    0.000000E+00              9.00000E+100\n",
            "         64  traj.phases.phase0.continuity_comp.defect_states:y                 e   0.000000E+00    0.000000E+00    0.000000E+00              9.00000E+100\n",
            "         65  traj.phases.phase0.continuity_comp.defect_states:y                 e   0.000000E+00    0.000000E+00    0.000000E+00              9.00000E+100\n",
            "         66  traj.phases.phase0.continuity_comp.defect_states:y                 e   0.000000E+00    0.000000E+00    0.000000E+00              9.00000E+100\n",
            "         67  traj.phases.phase0.continuity_comp.defect_states:y                 e   0.000000E+00    0.000000E+00    0.000000E+00              9.00000E+100\n",
            "         68  traj.phases.phase0.continuity_comp.defect_states:vx                e   0.000000E+00   -1.866377E-16    0.000000E+00              9.00000E+100\n",
            "         69  traj.phases.phase0.continuity_comp.defect_states:vx                e   0.000000E+00   -1.671194E-15    0.000000E+00              9.00000E+100\n",
            "         70  traj.phases.phase0.continuity_comp.defect_states:vx                e   0.000000E+00    1.078849E-15    0.000000E+00              9.00000E+100\n",
            "         71  traj.phases.phase0.continuity_comp.defect_states:vx                e   0.000000E+00    3.207582E-19    0.000000E+00              9.00000E+100\n",
            "         72  traj.phases.phase0.continuity_comp.defect_states:vx                e   0.000000E+00   -3.274428E-15    0.000000E+00              9.00000E+100\n",
            "         73  traj.phases.phase0.continuity_comp.defect_states:vx                e   0.000000E+00    2.442161E-15    0.000000E+00              9.00000E+100\n",
            "         74  traj.phases.phase0.continuity_comp.defect_states:vx                e   0.000000E+00   -6.806603E-15    0.000000E+00              9.00000E+100\n",
            "         75  traj.phases.phase0.continuity_comp.defect_states:vx                e   0.000000E+00   -5.918715E-16    0.000000E+00              9.00000E+100\n",
            "         76  traj.phases.phase0.continuity_comp.defect_states:vx                e   0.000000E+00   -1.622880E-16    0.000000E+00              9.00000E+100\n",
            "         77  traj.phases.phase0.continuity_comp.defect_states:vy                e   0.000000E+00   -2.893334E-16    0.000000E+00              9.00000E+100\n",
            "         78  traj.phases.phase0.continuity_comp.defect_states:vy                e   0.000000E+00    0.000000E+00    0.000000E+00              9.00000E+100\n",
            "         79  traj.phases.phase0.continuity_comp.defect_states:vy                e   0.000000E+00    0.000000E+00    0.000000E+00              9.00000E+100\n",
            "         80  traj.phases.phase0.continuity_comp.defect_states:vy                e   0.000000E+00    0.000000E+00    0.000000E+00              9.00000E+100\n",
            "         81  traj.phases.phase0.continuity_comp.defect_states:vy                e   0.000000E+00    0.000000E+00    0.000000E+00              9.00000E+100\n",
            "         82  traj.phases.phase0.continuity_comp.defect_states:vy                e   0.000000E+00   -1.327625E-18    0.000000E+00              9.00000E+100\n",
            "         83  traj.phases.phase0.continuity_comp.defect_states:vy                e   0.000000E+00    0.000000E+00    0.000000E+00              9.00000E+100\n",
            "         84  traj.phases.phase0.continuity_comp.defect_states:vy                e   0.000000E+00    0.000000E+00    0.000000E+00              9.00000E+100\n",
            "         85  traj.phases.phase0.continuity_comp.defect_states:vy                e   0.000000E+00    0.000000E+00    0.000000E+00              9.00000E+100\n",
            "         86  traj.phases.phase0.continuity_comp.defect_states:energy            e   0.000000E+00    0.000000E+00    0.000000E+00              9.00000E+100\n",
            "         87  traj.phases.phase0.continuity_comp.defect_states:energy            e   0.000000E+00    0.000000E+00    0.000000E+00              9.00000E+100\n",
            "         88  traj.phases.phase0.continuity_comp.defect_states:energy            e   0.000000E+00    0.000000E+00    0.000000E+00              9.00000E+100\n",
            "         89  traj.phases.phase0.continuity_comp.defect_states:energy            e   0.000000E+00    0.000000E+00    0.000000E+00              9.00000E+100\n",
            "         90  traj.phases.phase0.continuity_comp.defect_states:energy            e   0.000000E+00    0.000000E+00    0.000000E+00              9.00000E+100\n",
            "         91  traj.phases.phase0.continuity_comp.defect_states:energy            e   0.000000E+00    0.000000E+00    0.000000E+00              9.00000E+100\n",
            "         92  traj.phases.phase0.continuity_comp.defect_states:energy            e   0.000000E+00    0.000000E+00    0.000000E+00              9.00000E+100\n",
            "         93  traj.phases.phase0.continuity_comp.defect_states:energy            e   0.000000E+00    0.000000E+00    0.000000E+00              9.00000E+100\n",
            "         94  traj.phases.phase0.continuity_comp.defect_states:energy            e   0.000000E+00    0.000000E+00    0.000000E+00              9.00000E+100\n",
            "         95  traj.phases.phase0.continuity_comp.defect_controls:power           e   0.000000E+00    0.000000E+00    0.000000E+00              9.00000E+100\n",
            "         96  traj.phases.phase0.continuity_comp.defect_controls:power           e   0.000000E+00    0.000000E+00    0.000000E+00              9.00000E+100\n",
            "         97  traj.phases.phase0.continuity_comp.defect_controls:power           e   0.000000E+00    0.000000E+00    0.000000E+00              9.00000E+100\n",
            "         98  traj.phases.phase0.continuity_comp.defect_controls:power           e   0.000000E+00    0.000000E+00    0.000000E+00              9.00000E+100\n",
            "         99  traj.phases.phase0.continuity_comp.defect_controls:power           e   0.000000E+00    0.000000E+00    0.000000E+00              9.00000E+100\n",
            "        100  traj.phases.phase0.continuity_comp.defect_controls:power           e   0.000000E+00    0.000000E+00    0.000000E+00              9.00000E+100\n",
            "        101  traj.phases.phase0.continuity_comp.defect_controls:power           e   0.000000E+00    0.000000E+00    0.000000E+00              9.00000E+100\n",
            "        102  traj.phases.phase0.continuity_comp.defect_controls:power           e   0.000000E+00    0.000000E+00    0.000000E+00              9.00000E+100\n",
            "        103  traj.phases.phase0.continuity_comp.defect_controls:power           e   0.000000E+00    0.000000E+00    0.000000E+00              9.00000E+100\n",
            "        104  traj.phases.phase0.continuity_comp.defect_controls:theta           e   0.000000E+00   -1.386380E-17    0.000000E+00              9.00000E+100\n",
            "        105  traj.phases.phase0.continuity_comp.defect_controls:theta           e   0.000000E+00   -5.912986E-17    0.000000E+00              9.00000E+100\n",
            "        106  traj.phases.phase0.continuity_comp.defect_controls:theta           e   0.000000E+00   -1.095594E-20    0.000000E+00              9.00000E+100\n",
            "        107  traj.phases.phase0.continuity_comp.defect_controls:theta           e   0.000000E+00   -4.311973E-19    0.000000E+00              9.00000E+100\n",
            "        108  traj.phases.phase0.continuity_comp.defect_controls:theta           e   0.000000E+00   -1.050111E-16    0.000000E+00              9.00000E+100\n",
            "        109  traj.phases.phase0.continuity_comp.defect_controls:theta           e   0.000000E+00   -7.381287E-17    0.000000E+00              9.00000E+100\n",
            "        110  traj.phases.phase0.continuity_comp.defect_controls:theta           e   0.000000E+00   -2.317331E-16    0.000000E+00              9.00000E+100\n",
            "        111  traj.phases.phase0.continuity_comp.defect_controls:theta           e   0.000000E+00   -2.436822E-17    0.000000E+00              9.00000E+100\n",
            "        112  traj.phases.phase0.continuity_comp.defect_controls:theta           e   0.000000E+00   -9.534289E-17    0.000000E+00              9.00000E+100\n",
            "        113  traj.phases.phase0.final_boundary_constraints.final_value:x        e   9.000000E+00    9.000000E+00    9.000000E+00              9.00000E+100\n",
            "        114  traj.phases.phase0.final_boundary_constraints.final_value:x_dot    e   6.700000E-01    6.700000E-01    6.700000E-01              9.00000E+100\n",
            "        115  traj.phases.phase0.final_boundary_constraints.final_value:y        i   3.050000E+00    3.050000E+00    1.000000E+19         l    9.00000E+100\n",
            "        116  traj.phases.phase0.path_constraints.path:y                         i   0.000000E+00    3.333333E-05    1.016667E+00              9.00000E+100\n",
            "        117  traj.phases.phase0.path_constraints.path:y                         i   0.000000E+00    9.186096E-03    1.016667E+00              9.00000E+100\n",
            "        118  traj.phases.phase0.path_constraints.path:y                         i   0.000000E+00    3.535139E-02    1.016667E+00              9.00000E+100\n",
            "        119  traj.phases.phase0.path_constraints.path:y                         i   0.000000E+00    3.535139E-02    1.016667E+00              9.00000E+100\n",
            "        120  traj.phases.phase0.path_constraints.path:y                         i   0.000000E+00    7.606478E-02    1.016667E+00              9.00000E+100\n",
            "        121  traj.phases.phase0.path_constraints.path:y                         i   0.000000E+00    1.265774E-01    1.016667E+00              9.00000E+100\n",
            "        122  traj.phases.phase0.path_constraints.path:y                         i   0.000000E+00    1.265774E-01    1.016667E+00              9.00000E+100\n",
            "        123  traj.phases.phase0.path_constraints.path:y                         i   0.000000E+00    1.816314E-01    1.016667E+00              9.00000E+100\n",
            "        124  traj.phases.phase0.path_constraints.path:y                         i   0.000000E+00    2.374831E-01    1.016667E+00              9.00000E+100\n",
            "        125  traj.phases.phase0.path_constraints.path:y                         i   0.000000E+00    2.374831E-01    1.016667E+00              9.00000E+100\n",
            "        126  traj.phases.phase0.path_constraints.path:y                         i   0.000000E+00    2.925503E-01    1.016667E+00              9.00000E+100\n",
            "        127  traj.phases.phase0.path_constraints.path:y                         i   0.000000E+00    3.482946E-01    1.016667E+00              9.00000E+100\n",
            "        128  traj.phases.phase0.path_constraints.path:y                         i   0.000000E+00    3.482946E-01    1.016667E+00              9.00000E+100\n",
            "        129  traj.phases.phase0.path_constraints.path:y                         i   0.000000E+00    4.068004E-01    1.016667E+00              9.00000E+100\n",
            "        130  traj.phases.phase0.path_constraints.path:y                         i   0.000000E+00    4.712249E-01    1.016667E+00              9.00000E+100\n",
            "        131  traj.phases.phase0.path_constraints.path:y                         i   0.000000E+00    4.712249E-01    1.016667E+00              9.00000E+100\n",
            "        132  traj.phases.phase0.path_constraints.path:y                         i   0.000000E+00    5.428451E-01    1.016667E+00              9.00000E+100\n",
            "        133  traj.phases.phase0.path_constraints.path:y                         i   0.000000E+00    6.202966E-01    1.016667E+00              9.00000E+100\n",
            "        134  traj.phases.phase0.path_constraints.path:y                         i   0.000000E+00    6.202966E-01    1.016667E+00              9.00000E+100\n",
            "        135  traj.phases.phase0.path_constraints.path:y                         i   0.000000E+00    6.991234E-01    1.016667E+00              9.00000E+100\n",
            "        136  traj.phases.phase0.path_constraints.path:y                         i   0.000000E+00    7.698837E-01    1.016667E+00              9.00000E+100\n",
            "        137  traj.phases.phase0.path_constraints.path:y                         i   0.000000E+00    7.698837E-01    1.016667E+00              9.00000E+100\n",
            "        138  traj.phases.phase0.path_constraints.path:y                         i   0.000000E+00    8.293967E-01    1.016667E+00              9.00000E+100\n",
            "        139  traj.phases.phase0.path_constraints.path:y                         i   0.000000E+00    8.807442E-01    1.016667E+00              9.00000E+100\n",
            "        140  traj.phases.phase0.path_constraints.path:y                         i   0.000000E+00    8.807442E-01    1.016667E+00              9.00000E+100\n",
            "        141  traj.phases.phase0.path_constraints.path:y                         i   0.000000E+00    9.247718E-01    1.016667E+00              9.00000E+100\n",
            "        142  traj.phases.phase0.path_constraints.path:y                         i   0.000000E+00    9.618668E-01    1.016667E+00              9.00000E+100\n",
            "        143  traj.phases.phase0.path_constraints.path:y                         i   0.000000E+00    9.618668E-01    1.016667E+00              9.00000E+100\n",
            "        144  traj.phases.phase0.path_constraints.path:y                         i   0.000000E+00    9.924226E-01    1.016667E+00              9.00000E+100\n",
            "        145  traj.phases.phase0.path_constraints.path:y                         i   0.000000E+00    1.016667E+00    1.016667E+00         u    9.00000E+100\n",
            "        146  traj.phases.phase0.path_constraints.path:acc                       i  -1.000000E+30    2.997926E-01    3.000000E-01              9.00000E+100\n",
            "        147  traj.phases.phase0.path_constraints.path:acc                       i  -1.000000E+30    2.999378E-01    3.000000E-01              9.00000E+100\n",
            "        148  traj.phases.phase0.path_constraints.path:acc                       i  -1.000000E+30    2.997064E-01    3.000000E-01              9.00000E+100\n",
            "        149  traj.phases.phase0.path_constraints.path:acc                       i  -1.000000E+30    2.997064E-01    3.000000E-01              9.00000E+100\n",
            "        150  traj.phases.phase0.path_constraints.path:acc                       i  -1.000000E+30    2.999101E-01    3.000000E-01              9.00000E+100\n",
            "        151  traj.phases.phase0.path_constraints.path:acc                       i  -1.000000E+30    2.995577E-01    3.000000E-01              9.00000E+100\n",
            "        152  traj.phases.phase0.path_constraints.path:acc                       i  -1.000000E+30    2.995577E-01    3.000000E-01              9.00000E+100\n",
            "        153  traj.phases.phase0.path_constraints.path:acc                       i  -1.000000E+30    2.998421E-01    3.000000E-01              9.00000E+100\n",
            "        154  traj.phases.phase0.path_constraints.path:acc                       i  -1.000000E+30    2.987536E-01    3.000000E-01              9.00000E+100\n",
            "        155  traj.phases.phase0.path_constraints.path:acc                       i  -1.000000E+30    2.987536E-01    3.000000E-01              9.00000E+100\n",
            "        156  traj.phases.phase0.path_constraints.path:acc                       i  -1.000000E+30    2.994777E-01    3.000000E-01              9.00000E+100\n",
            "        157  traj.phases.phase0.path_constraints.path:acc                       i  -1.000000E+30    2.952754E-01    3.000000E-01              9.00000E+100\n",
            "        158  traj.phases.phase0.path_constraints.path:acc                       i  -1.000000E+30    2.952754E-01    3.000000E-01              9.00000E+100\n",
            "        159  traj.phases.phase0.path_constraints.path:acc                       i  -1.000000E+30    2.966485E-01    3.000000E-01              9.00000E+100\n",
            "        160  traj.phases.phase0.path_constraints.path:acc                       i  -1.000000E+30    2.382728E-01    3.000000E-01              9.00000E+100\n",
            "        161  traj.phases.phase0.path_constraints.path:acc                       i  -1.000000E+30    2.382728E-01    3.000000E-01              9.00000E+100\n",
            "        162  traj.phases.phase0.path_constraints.path:acc                       i  -1.000000E+30    1.676395E-01    3.000000E-01              9.00000E+100\n",
            "        163  traj.phases.phase0.path_constraints.path:acc                       i  -1.000000E+30    1.250640E-01    3.000000E-01              9.00000E+100\n",
            "        164  traj.phases.phase0.path_constraints.path:acc                       i  -1.000000E+30    1.250640E-01    3.000000E-01              9.00000E+100\n",
            "        165  traj.phases.phase0.path_constraints.path:acc                       i  -1.000000E+30    2.932827E-01    3.000000E-01              9.00000E+100\n",
            "        166  traj.phases.phase0.path_constraints.path:acc                       i  -1.000000E+30    2.891537E-01    3.000000E-01              9.00000E+100\n",
            "        167  traj.phases.phase0.path_constraints.path:acc                       i  -1.000000E+30    2.891537E-01    3.000000E-01              9.00000E+100\n",
            "        168  traj.phases.phase0.path_constraints.path:acc                       i  -1.000000E+30    2.990099E-01    3.000000E-01              9.00000E+100\n",
            "        169  traj.phases.phase0.path_constraints.path:acc                       i  -1.000000E+30    2.976403E-01    3.000000E-01              9.00000E+100\n",
            "        170  traj.phases.phase0.path_constraints.path:acc                       i  -1.000000E+30    2.976403E-01    3.000000E-01              9.00000E+100\n",
            "        171  traj.phases.phase0.path_constraints.path:acc                       i  -1.000000E+30    2.996455E-01    3.000000E-01              9.00000E+100\n",
            "        172  traj.phases.phase0.path_constraints.path:acc                       i  -1.000000E+30    2.989808E-01    3.000000E-01              9.00000E+100\n",
            "        173  traj.phases.phase0.path_constraints.path:acc                       i  -1.000000E+30    2.989808E-01    3.000000E-01              9.00000E+100\n",
            "        174  traj.phases.phase0.path_constraints.path:acc                       i  -1.000000E+30    2.998197E-01    3.000000E-01              9.00000E+100\n",
            "        175  traj.phases.phase0.path_constraints.path:acc                       i  -1.000000E+30    2.994337E-01    3.000000E-01              9.00000E+100\n",
            "        176  traj.phases.phase0.path_constraints.path:aoa                       i   0.000000E+00    3.578041E-01    1.000000E+00              9.00000E+100\n",
            "        177  traj.phases.phase0.path_constraints.path:aoa                       i   0.000000E+00    9.964611E-01    1.000000E+00              9.00000E+100\n",
            "        178  traj.phases.phase0.path_constraints.path:aoa                       i   0.000000E+00    9.969082E-01    1.000000E+00              9.00000E+100\n",
            "        179  traj.phases.phase0.path_constraints.path:aoa                       i   0.000000E+00    9.969082E-01    1.000000E+00              9.00000E+100\n",
            "        180  traj.phases.phase0.path_constraints.path:aoa                       i   0.000000E+00    9.992942E-01    1.000000E+00              9.00000E+100\n",
            "        181  traj.phases.phase0.path_constraints.path:aoa                       i   0.000000E+00    9.970059E-01    1.000000E+00              9.00000E+100\n",
            "        182  traj.phases.phase0.path_constraints.path:aoa                       i   0.000000E+00    9.970059E-01    1.000000E+00              9.00000E+100\n",
            "        183  traj.phases.phase0.path_constraints.path:aoa                       i   0.000000E+00    9.983506E-01    1.000000E+00              9.00000E+100\n",
            "        184  traj.phases.phase0.path_constraints.path:aoa                       i   0.000000E+00    9.733112E-01    1.000000E+00              9.00000E+100\n",
            "        185  traj.phases.phase0.path_constraints.path:aoa                       i   0.000000E+00    9.733112E-01    1.000000E+00              9.00000E+100\n",
            "        186  traj.phases.phase0.path_constraints.path:aoa                       i   0.000000E+00    9.460214E-01    1.000000E+00              9.00000E+100\n",
            "        187  traj.phases.phase0.path_constraints.path:aoa                       i   0.000000E+00    8.863735E-01    1.000000E+00              9.00000E+100\n",
            "        188  traj.phases.phase0.path_constraints.path:aoa                       i   0.000000E+00    8.863735E-01    1.000000E+00              9.00000E+100\n",
            "        189  traj.phases.phase0.path_constraints.path:aoa                       i   0.000000E+00    8.489267E-01    1.000000E+00              9.00000E+100\n",
            "        190  traj.phases.phase0.path_constraints.path:aoa                       i   0.000000E+00    8.093002E-01    1.000000E+00              9.00000E+100\n",
            "        191  traj.phases.phase0.path_constraints.path:aoa                       i   0.000000E+00    8.093002E-01    1.000000E+00              9.00000E+100\n",
            "        192  traj.phases.phase0.path_constraints.path:aoa                       i   0.000000E+00    7.694820E-01    1.000000E+00              9.00000E+100\n",
            "        193  traj.phases.phase0.path_constraints.path:aoa                       i   0.000000E+00    7.610371E-01    1.000000E+00              9.00000E+100\n",
            "        194  traj.phases.phase0.path_constraints.path:aoa                       i   0.000000E+00    7.610371E-01    1.000000E+00              9.00000E+100\n",
            "        195  traj.phases.phase0.path_constraints.path:aoa                       i   0.000000E+00    6.684772E-01    1.000000E+00              9.00000E+100\n",
            "        196  traj.phases.phase0.path_constraints.path:aoa                       i   0.000000E+00    6.659932E-01    1.000000E+00              9.00000E+100\n",
            "        197  traj.phases.phase0.path_constraints.path:aoa                       i   0.000000E+00    6.659932E-01    1.000000E+00              9.00000E+100\n",
            "        198  traj.phases.phase0.path_constraints.path:aoa                       i   0.000000E+00    6.582417E-01    1.000000E+00              9.00000E+100\n",
            "        199  traj.phases.phase0.path_constraints.path:aoa                       i   0.000000E+00    6.445490E-01    1.000000E+00              9.00000E+100\n",
            "        200  traj.phases.phase0.path_constraints.path:aoa                       i   0.000000E+00    6.445490E-01    1.000000E+00              9.00000E+100\n",
            "        201  traj.phases.phase0.path_constraints.path:aoa                       i   0.000000E+00    6.324683E-01    1.000000E+00              9.00000E+100\n",
            "        202  traj.phases.phase0.path_constraints.path:aoa                       i   0.000000E+00    6.197529E-01    1.000000E+00              9.00000E+100\n",
            "        203  traj.phases.phase0.path_constraints.path:aoa                       i   0.000000E+00    6.197529E-01    1.000000E+00              9.00000E+100\n",
            "        204  traj.phases.phase0.path_constraints.path:aoa                       i   0.000000E+00    6.086771E-01    1.000000E+00              9.00000E+100\n",
            "        205  traj.phases.phase0.path_constraints.path:aoa                       i   0.000000E+00    5.981727E-01    1.000000E+00              9.00000E+100\n",
            "        206  traj.phases.phase0.path_constraints.path:thrust                    i   0.000000E+00    1.016452E+02    1.111111E+28              9.00000E+100\n",
            "        207  traj.phases.phase0.path_constraints.path:thrust                    i   0.000000E+00    1.005683E+02    1.111111E+28              9.00000E+100\n",
            "        208  traj.phases.phase0.path_constraints.path:thrust                    i   0.000000E+00    9.730456E+01    1.111111E+28              9.00000E+100\n",
            "        209  traj.phases.phase0.path_constraints.path:thrust                    i   0.000000E+00    9.730456E+01    1.111111E+28              9.00000E+100\n",
            "        210  traj.phases.phase0.path_constraints.path:thrust                    i   0.000000E+00    9.122625E+01    1.111111E+28              9.00000E+100\n",
            "        211  traj.phases.phase0.path_constraints.path:thrust                    i   0.000000E+00    8.257864E+01    1.111111E+28              9.00000E+100\n",
            "        212  traj.phases.phase0.path_constraints.path:thrust                    i   0.000000E+00    8.257864E+01    1.111111E+28              9.00000E+100\n",
            "        213  traj.phases.phase0.path_constraints.path:thrust                    i   0.000000E+00    7.466808E+01    1.111111E+28              9.00000E+100\n",
            "        214  traj.phases.phase0.path_constraints.path:thrust                    i   0.000000E+00    6.721753E+01    1.111111E+28              9.00000E+100\n",
            "        215  traj.phases.phase0.path_constraints.path:thrust                    i   0.000000E+00    6.721753E+01    1.111111E+28              9.00000E+100\n",
            "        216  traj.phases.phase0.path_constraints.path:thrust                    i   0.000000E+00    6.489924E+01    1.111111E+28              9.00000E+100\n",
            "        217  traj.phases.phase0.path_constraints.path:thrust                    i   0.000000E+00    6.142112E+01    1.111111E+28              9.00000E+100\n",
            "        218  traj.phases.phase0.path_constraints.path:thrust                    i   0.000000E+00    6.142112E+01    1.111111E+28              9.00000E+100\n",
            "        219  traj.phases.phase0.path_constraints.path:thrust                    i   0.000000E+00    6.179144E+01    1.111111E+28              9.00000E+100\n",
            "        220  traj.phases.phase0.path_constraints.path:thrust                    i   0.000000E+00    5.768958E+01    1.111111E+28              9.00000E+100\n",
            "        221  traj.phases.phase0.path_constraints.path:thrust                    i   0.000000E+00    5.768958E+01    1.111111E+28              9.00000E+100\n",
            "        222  traj.phases.phase0.path_constraints.path:thrust                    i   0.000000E+00    5.265171E+01    1.111111E+28              9.00000E+100\n",
            "        223  traj.phases.phase0.path_constraints.path:thrust                    i   0.000000E+00    4.930564E+01    1.111111E+28              9.00000E+100\n",
            "        224  traj.phases.phase0.path_constraints.path:thrust                    i   0.000000E+00    4.930564E+01    1.111111E+28              9.00000E+100\n",
            "        225  traj.phases.phase0.path_constraints.path:thrust                    i   0.000000E+00    4.849004E+01    1.111111E+28              9.00000E+100\n",
            "        226  traj.phases.phase0.path_constraints.path:thrust                    i   0.000000E+00    4.583099E+01    1.111111E+28              9.00000E+100\n",
            "        227  traj.phases.phase0.path_constraints.path:thrust                    i   0.000000E+00    4.583099E+01    1.111111E+28              9.00000E+100\n",
            "        228  traj.phases.phase0.path_constraints.path:thrust                    i   0.000000E+00    4.611735E+01    1.111111E+28              9.00000E+100\n",
            "        229  traj.phases.phase0.path_constraints.path:thrust                    i   0.000000E+00    4.404540E+01    1.111111E+28              9.00000E+100\n",
            "        230  traj.phases.phase0.path_constraints.path:thrust                    i   0.000000E+00    4.404540E+01    1.111111E+28              9.00000E+100\n",
            "        231  traj.phases.phase0.path_constraints.path:thrust                    i   0.000000E+00    4.317766E+01    1.111111E+28              9.00000E+100\n",
            "        232  traj.phases.phase0.path_constraints.path:thrust                    i   0.000000E+00    4.204330E+01    1.111111E+28              9.00000E+100\n",
            "        233  traj.phases.phase0.path_constraints.path:thrust                    i   0.000000E+00    4.204330E+01    1.111111E+28              9.00000E+100\n",
            "        234  traj.phases.phase0.path_constraints.path:thrust                    i   0.000000E+00    4.157730E+01    1.111111E+28              9.00000E+100\n",
            "        235  traj.phases.phase0.path_constraints.path:thrust                    i   0.000000E+00    4.114890E+01    1.111111E+28              9.00000E+100\n",
            "\n",
            "--------------------------------------------------------------------------------\n",
            "\n"
          ],
          "name": "stdout"
        },
        {
          "output_type": "stream",
          "text": [
            "/usr/local/lib/python3.6/dist-packages/openmdao/core/group.py:1683: UserWarning:<model> <class ODEIntegrationInterfaceSystem>: Input 'state_rate_collector.state_rates_in:x_rate' with units of '1.0/s' is connected to output 'ode.x_dot' which has no units.\n",
            "/usr/local/lib/python3.6/dist-packages/openmdao/core/group.py:1683: UserWarning:<model> <class ODEIntegrationInterfaceSystem>: Input 'state_rate_collector.state_rates_in:y_rate' with units of '1.0/s' is connected to output 'ode.y_dot' which has no units.\n",
            "/usr/local/lib/python3.6/dist-packages/openmdao/core/group.py:1683: UserWarning:<model> <class ODEIntegrationInterfaceSystem>: Input 'state_rate_collector.state_rates_in:vx_rate' with units of '1.0/s' is connected to output 'ode.a_x' which has no units.\n",
            "/usr/local/lib/python3.6/dist-packages/openmdao/core/group.py:1683: UserWarning:<model> <class ODEIntegrationInterfaceSystem>: Input 'state_rate_collector.state_rates_in:vy_rate' with units of '1.0/s' is connected to output 'ode.a_y' which has no units.\n",
            "/usr/local/lib/python3.6/dist-packages/openmdao/core/group.py:1683: UserWarning:<model> <class ODEIntegrationInterfaceSystem>: Input 'state_rate_collector.state_rates_in:energy_rate' with units of '1.0/s' is connected to output 'ode.energy_dot' which has no units.\n",
            "/usr/local/lib/python3.6/dist-packages/openmdao/core/group.py:1683: UserWarning:'traj.phases.phase0' <class Phase>: Input 'traj.phases.phase0.timeseries.all_values:state_rates:x' with units of '1.0/s' is connected to output 'traj.phases.phase0.ode.x_dot' which has no units.\n",
            "/usr/local/lib/python3.6/dist-packages/openmdao/core/group.py:1683: UserWarning:'traj.phases.phase0' <class Phase>: Input 'traj.phases.phase0.timeseries.all_values:state_rates:y' with units of '1.0/s' is connected to output 'traj.phases.phase0.ode.y_dot' which has no units.\n",
            "/usr/local/lib/python3.6/dist-packages/openmdao/core/group.py:1683: UserWarning:'traj.phases.phase0' <class Phase>: Input 'traj.phases.phase0.timeseries.all_values:state_rates:vx' with units of '1.0/s' is connected to output 'traj.phases.phase0.ode.a_x' which has no units.\n",
            "/usr/local/lib/python3.6/dist-packages/openmdao/core/group.py:1683: UserWarning:'traj.phases.phase0' <class Phase>: Input 'traj.phases.phase0.timeseries.all_values:state_rates:vy' with units of '1.0/s' is connected to output 'traj.phases.phase0.ode.a_y' which has no units.\n",
            "/usr/local/lib/python3.6/dist-packages/openmdao/core/group.py:1683: UserWarning:'traj.phases.phase0' <class Phase>: Input 'traj.phases.phase0.timeseries.all_values:state_rates:energy' with units of '1.0/s' is connected to output 'traj.phases.phase0.ode.energy_dot' which has no units.\n"
          ],
          "name": "stderr"
        },
        {
          "output_type": "stream",
          "text": [
            "\n",
            "Simulating trajectory traj\n",
            "Done simulating trajectory traj\n"
          ],
          "name": "stdout"
        }
      ]
    },
    {
      "cell_type": "markdown",
      "metadata": {
        "id": "2wsMSGQBgKU0"
      },
      "source": [
        "Now we load the resulting record files; one for the discrete solution, and one for the simulation of the resulting optimal control time-history."
      ]
    },
    {
      "cell_type": "code",
      "metadata": {
        "id": "SL1FKCI8c8lY"
      },
      "source": [
        "sol = om.CaseReader('dymos_solution.db').get_case('final')\n",
        "sim = om.CaseReader('dymos_simulation.db').get_case(-1)"
      ],
      "execution_count": 17,
      "outputs": []
    },
    {
      "cell_type": "code",
      "metadata": {
        "id": "AmyZW6OCi9d-"
      },
      "source": [
        "import matplotlib\n",
        "import matplotlib.pyplot as plt\n",
        "matplotlib.rcParams['figure.figsize'] = (11, 8)\n",
        "matplotlib.style.use('seaborn')"
      ],
      "execution_count": 18,
      "outputs": []
    },
    {
      "cell_type": "code",
      "metadata": {
        "id": "D7482yH5jfz_",
        "outputId": "e9af760f-22c1-4629-c609-b485664471e2",
        "colab": {
          "base_uri": "https://localhost:8080/",
          "height": 378
        }
      },
      "source": [
        "plt.figure()\n",
        "plt.plot(sol.get_val('traj.phase0.timeseries.time'), sol.get_val('traj.phase0.timeseries.controls:power'), 'o')\n",
        "plt.plot(sim.get_val('traj.phase0.timeseries.time'), sim.get_val('traj.phase0.timeseries.controls:power'), '-')\n",
        "plt.xlabel('time (s)')\n",
        "plt.ylabel('power (W)')"
      ],
      "execution_count": 19,
      "outputs": [
        {
          "output_type": "execute_result",
          "data": {
            "text/plain": [
              "Text(0, 0.5, 'power (W)')"
            ]
          },
          "metadata": {
            "tags": []
          },
          "execution_count": 19
        },
        {
          "output_type": "display_data",
          "data": {
            "image/png": "[encoded data removed]",
            "text/plain": [
              "<Figure size 576x396 with 1 Axes>"
            ]
          },
          "metadata": {
            "tags": []
          }
        }
      ]
    },
    {
      "cell_type": "code",
      "metadata": {
        "id": "d-jrGuCsjnaK",
        "outputId": "54539885-b5a6-49d9-a2f7-b2c9d63c0508",
        "colab": {
          "base_uri": "https://localhost:8080/",
          "height": 378
        }
      },
      "source": [
        "plt.figure()\n",
        "plt.plot(sol.get_val('traj.phase0.timeseries.time'), sol.get_val('traj.phase0.timeseries.controls:theta'), 'o')\n",
        "plt.plot(sim.get_val('traj.phase0.timeseries.time'), sim.get_val('traj.phase0.timeseries.controls:theta'), '-')\n",
        "plt.xlabel('time (s)')\n",
        "plt.ylabel(r'$\\theta$ (rad)')"
      ],
      "execution_count": 20,
      "outputs": [
        {
          "output_type": "execute_result",
          "data": {
            "text/plain": [
              "Text(0, 0.5, '$\\\\theta$ (rad)')"
            ]
          },
          "metadata": {
            "tags": []
          },
          "execution_count": 20
        },
        {
          "output_type": "display_data",
          "data": {
            "image/png": "[encoded data removed]",
            "text/plain": [
              "<Figure size 576x396 with 1 Axes>"
            ]
          },
          "metadata": {
            "tags": []
          }
        }
      ]
    },
    {
      "cell_type": "code",
      "metadata": {
        "id": "jItzcpZcFO7s",
        "outputId": "b9373677-e2ba-4bd5-d20e-8773d9e09a5a",
        "colab": {
          "base_uri": "https://localhost:8080/",
          "height": 378
        }
      },
      "source": [
        "plt.figure()\n",
        "plt.plot(sol.get_val('traj.phase0.timeseries.states:x'), sol.get_val('traj.phase0.timeseries.states:y'), 'o')\n",
        "plt.plot(sim.get_val('traj.phase0.timeseries.states:x'), sim.get_val('traj.phase0.timeseries.states:y'), '-')\n",
        "plt.xlabel('x (m)')\n",
        "plt.ylabel('y (m)')"
      ],
      "execution_count": 21,
      "outputs": [
        {
          "output_type": "execute_result",
          "data": {
            "text/plain": [
              "Text(0, 0.5, 'y (m)')"
            ]
          },
          "metadata": {
            "tags": []
          },
          "execution_count": 21
        },
        {
          "output_type": "display_data",
          "data": {
            "image/png": "[encoded data removed]",
            "text/plain": [
              "<Figure size 576x396 with 1 Axes>"
            ]
          },
          "metadata": {
            "tags": []
          }
        }
      ]
    },
    {
      "cell_type": "code",
      "metadata": {
        "id": "OnCFfI7sIX9M",
        "outputId": "ce05c9f4-8c24-435f-9dd9-4f3bb5482d5e",
        "colab": {
          "base_uri": "https://localhost:8080/",
          "height": 378
        }
      },
      "source": [
        "plt.figure()\n",
        "plt.plot(sol.get_val('traj.phase0.timeseries.time'), sol.get_val('traj.phase0.timeseries.acc'), 'o')\n",
        "plt.plot(sim.get_val('traj.phase0.timeseries.time'), sim.get_val('traj.phase0.timeseries.acc'), '-')\n",
        "plt.plot([0, 25], [0.3, 0.3], 'r--')\n",
        "plt.xlabel('time (s)')\n",
        "plt.ylabel('acceleration (g\\'s)')"
      ],
      "execution_count": 22,
      "outputs": [
        {
          "output_type": "execute_result",
          "data": {
            "text/plain": [
              "Text(0, 0.5, \"acceleration (g's)\")"
            ]
          },
          "metadata": {
            "tags": []
          },
          "execution_count": 22
        },
        {
          "output_type": "display_data",
          "data": {
            "image/png": "[encoded data removed]",
            "text/plain": [
              "<Figure size 576x396 with 1 Axes>"
            ]
          },
          "metadata": {
            "tags": []
          }
        }
      ]
    },
    {
      "cell_type": "code",
      "metadata": {
        "id": "azmTQEEAKmWo",
        "outputId": "709327f3-4d51-4f80-dece-a5291867150c",
        "colab": {
          "base_uri": "https://localhost:8080/",
          "height": 378
        }
      },
      "source": [
        "plt.figure()\n",
        "plt.plot(sol.get_val('traj.phase0.timeseries.time'), sol.get_val('traj.phase0.timeseries.aoa'), 'o')\n",
        "plt.plot(sim.get_val('traj.phase0.timeseries.time'), sim.get_val('traj.phase0.timeseries.aoa'), '-')\n",
        "plt.plot([0, 30], np.radians([15, 15]), 'r--')\n",
        "plt.xlabel('time (s)')\n",
        "plt.ylabel('angle-of-attack (rad)')"
      ],
      "execution_count": 23,
      "outputs": [
        {
          "output_type": "execute_result",
          "data": {
            "text/plain": [
              "Text(0, 0.5, 'angle-of-attack (rad)')"
            ]
          },
          "metadata": {
            "tags": []
          },
          "execution_count": 23
        },
        {
          "output_type": "display_data",
          "data": {
            "image/png": "[encoded data removed]",
            "text/plain": [
              "<Figure size 576x396 with 1 Axes>"
            ]
          },
          "metadata": {
            "tags": []
          }
        }
      ]
    },
    {
      "cell_type": "code",
      "metadata": {
        "id": "UczpiMpjKvD0",
        "outputId": "98ecabcc-4e5c-45c0-d14b-e772b87985ef",
        "colab": {
          "base_uri": "https://localhost:8080/",
          "height": 378
        }
      },
      "source": [
        "plt.figure()\n",
        "plt.plot(sol.get_val('traj.phase0.timeseries.time'), sol.get_val('traj.phase0.timeseries.thrust'), 'o')\n",
        "plt.plot(sim.get_val('traj.phase0.timeseries.time'), sim.get_val('traj.phase0.timeseries.thrust'), '-')\n",
        "plt.xlabel('time (s)')\n",
        "plt.ylabel('thrust (N)')"
      ],
      "execution_count": 24,
      "outputs": [
        {
          "output_type": "execute_result",
          "data": {
            "text/plain": [
              "Text(0, 0.5, 'thrust (N)')"
            ]
          },
          "metadata": {
            "tags": []
          },
          "execution_count": 24
        },
        {
          "output_type": "display_data",
          "data": {
            "image/png": "[encoded data removed]",
            "text/plain": [
              "<Figure size 576x396 with 1 Axes>"
            ]
          },
          "metadata": {
            "tags": []
          }
        }
      ]
    },
    {
      "cell_type": "markdown",
      "metadata": {
        "id": "D_qbRzqWTVL-"
      },
      "source": [
        "These plots match the original implementation fairly well, but provide a slightly better solution (6.7E7 J vs 6.74E7 J).\n",
        "\n",
        "The dymos solution respects the acceleration limit (0.3 g's) much more tightly than the original implementation.  The original K-S function-based path constraints are inherently conservative, and it's possible that dymos is buying a small amount of performance by more closely riding the limit.\n"
      ]
    }
  ]
}